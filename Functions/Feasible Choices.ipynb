{
 "cells": [
  {
   "cell_type": "markdown",
   "metadata": {},
   "source": [
    "# Feasible Labour Portfolio Choices"
   ]
  },
  {
   "cell_type": "markdown",
   "metadata": {},
   "source": [
    "Returns the Array with the Index Value of all Feasible future choices for Labour Portfolio i."
   ]
  },
  {
   "cell_type": "markdown",
   "metadata": {},
   "source": [
    "### Input Variables:"
   ]
  },
  {
   "cell_type": "markdown",
   "metadata": {},
   "source": [
    "$\\mathbb{L}$ Labour Portfolios   "
   ]
  },
  {
   "cell_type": "markdown",
   "metadata": {},
   "source": [
    "### Output Variables:"
   ]
  },
  {
   "cell_type": "markdown",
   "metadata": {},
   "source": [
    "$\\mathbf{R}$ Array of Indexes of Today Portfolio by the Number of Feasible Portfolios  \n",
    "$\\mathbf{C}$ List with all feasible Portfolio indexes for each Portfolio"
   ]
  },
  {
   "cell_type": "markdown",
   "metadata": {},
   "source": [
    "## Function:"
   ]
  },
  {
   "cell_type": "code",
   "execution_count": 1,
   "metadata": {
    "collapsed": false
   },
   "outputs": [
    {
     "data": {
      "text/plain": [
       "FeasibleChoices (generic function with 1 method)"
      ]
     },
     "execution_count": 1,
     "metadata": {},
     "output_type": "execute_result"
    }
   ],
   "source": [
    "function FeasibleChoices(L::Array{Any,1})\n",
    "    \n",
    "    \"\"\"Returns the Array with the \n",
    "    Index Value of all Feasible future\n",
    "    choices for Labour Portfolio i.\n",
    "\n",
    "    Parameters\n",
    "    ----------\n",
    "    L : Labour Portfolios\n",
    "    \n",
    "    Output\n",
    "    ----------\n",
    "    R : Array of Indexes of Today Portfolio by the Number of Feasible Portfolios\n",
    "    C : List with all Feasible Portfolio indexes for each Portfolio\n",
    "    \"\"\"\n",
    "    \n",
    "    L2=zeros(Int64,length(L)*(length(L[1])-1));\n",
    "    \n",
    "    TomorrowL!(L2,L);\n",
    "    \n",
    "    C=FeasLoop(L,L2); \n",
    "    \n",
    "    R=deepcopy(C);\n",
    "    \n",
    "    Rows!(R);\n",
    "\n",
    "    return R,C\n",
    "    \n",
    "end"
   ]
  },
  {
   "cell_type": "markdown",
   "metadata": {},
   "source": [
    "## Sub Functions"
   ]
  },
  {
   "cell_type": "markdown",
   "metadata": {},
   "source": [
    "### TomorrowL!"
   ]
  },
  {
   "cell_type": "code",
   "execution_count": 2,
   "metadata": {
    "collapsed": false
   },
   "outputs": [
    {
     "data": {
      "text/plain": [
       "TomorrowL! (generic function with 1 method)"
      ]
     },
     "execution_count": 2,
     "metadata": {},
     "output_type": "execute_result"
    }
   ],
   "source": [
    "function TomorrowL!(L2::Array{Int64,1},L::Array{Any,1})\n",
    "    \n",
    "    \"\"\"Create a vector with all Possible Portfolios\n",
    "    workers, but avoiding the first Generation \n",
    "    Number of Workers\n",
    "\n",
    "    Parameters\n",
    "    ----------\n",
    "    L2 : Vector to be filled with the number of workers\n",
    "    L  : Labour Portfolios\n",
    "    \n",
    "    Output\n",
    "    ----------\n",
    "    L2 : Vector filled with number of workers\n",
    "    \"\"\"\n",
    "    \n",
    "    G=length(L[1])-1;\n",
    "    \n",
    "    j=0;\n",
    "    \n",
    "    for i=1:length(L)\n",
    "        \n",
    "        for g=2:length(L[1])\n",
    "            \n",
    "            j+=1;\n",
    "            L2[j]=L[i][g];\n",
    "            \n",
    "        end\n",
    "        \n",
    "    end\n",
    "    \n",
    "end"
   ]
  },
  {
   "cell_type": "markdown",
   "metadata": {},
   "source": [
    "### LiLarge!"
   ]
  },
  {
   "cell_type": "code",
   "execution_count": 3,
   "metadata": {
    "collapsed": false
   },
   "outputs": [
    {
     "data": {
      "text/plain": [
       "LiLarge! (generic function with 1 method)"
      ]
     },
     "execution_count": 3,
     "metadata": {},
     "output_type": "execute_result"
    }
   ],
   "source": [
    "function LiLarge!(Li::BitArray{1},L1::Array{Int64,1},L2::Array{Int64,1})\n",
    "    \n",
    "    \"\"\"Return a boolean vector saying if the change of\n",
    "    portfolio is feasible (ie if tomorrow number of\n",
    "    workers is larger than todays\n",
    "\n",
    "    Parameters\n",
    "    ----------\n",
    "    Li : Ready Boolean Vector\n",
    "    L1 : Todays Labour Portfolio\n",
    "    L2 : Vector with all possible portfolios\n",
    "    \n",
    "    Output\n",
    "    ----------\n",
    "    Li : Filled Boolean Vector\n",
    "    \"\"\"\n",
    "    \n",
    "    for i=1:length(Li)\n",
    "        \n",
    "        Li[i]=L1[rem(i-1,length(L1))+1]>=L2[i];\n",
    "        \n",
    "    end\n",
    "    \n",
    "end"
   ]
  },
  {
   "cell_type": "markdown",
   "metadata": {},
   "source": [
    "### FeasLoop"
   ]
  },
  {
   "cell_type": "code",
   "execution_count": 4,
   "metadata": {
    "collapsed": false
   },
   "outputs": [
    {
     "data": {
      "text/plain": [
       "FeasLoop (generic function with 1 method)"
      ]
     },
     "execution_count": 4,
     "metadata": {},
     "output_type": "execute_result"
    }
   ],
   "source": [
    "function FeasLoop(L::Array{Any,1},L2::Array{Int64,1})\n",
    "    \n",
    "    \"\"\"Find the indexes of the Feasible Portfolios\n",
    "    for each current Portfolio\n",
    "\n",
    "    Parameters\n",
    "    ----------\n",
    "    L : Labour Portfolio\n",
    "    L2 : Vector with all possible portfolios\n",
    "    \n",
    "    Output\n",
    "    ----------\n",
    "    C : List with all Feasible Portfolio indexes for each Portfolio\n",
    "    \"\"\"\n",
    "    \n",
    "    C=Array(Array{Int64,1},length(L));\n",
    "    \n",
    "    Li=BitArray(length(L2));\n",
    "    \n",
    "    for i=1:length(L)\n",
    "        \n",
    "        LiLarge!(Li,vcat(L[i][1:end-2],sum(L[i][end-1:end])),L2);\n",
    "        \n",
    "        C[i]=find(prod(reshape(Li,length(L[1])-1,length(L)),1))\n",
    "        \n",
    "    end\n",
    "    \n",
    "    return C\n",
    "    \n",
    "end"
   ]
  },
  {
   "cell_type": "markdown",
   "metadata": {},
   "source": [
    "### Rows!"
   ]
  },
  {
   "cell_type": "code",
   "execution_count": 5,
   "metadata": {
    "collapsed": false
   },
   "outputs": [
    {
     "data": {
      "text/plain": [
       "Rows! (generic function with 1 method)"
      ]
     },
     "execution_count": 5,
     "metadata": {},
     "output_type": "execute_result"
    }
   ],
   "source": [
    "function Rows!(R::Array{Array{Int64,1},1})\n",
    "    \n",
    "    \"\"\"Give the Indexes for Todays Portfolio\n",
    "    for each feasible Portfolio Change. It does\n",
    "    it by filling the Feasible portfolio Matrix\n",
    "    with its coloumn value\n",
    "\n",
    "    Parameters\n",
    "    ----------\n",
    "    R : Empty Array of Indexes of Today Portfolio by the Number of Feasible Portfolios\n",
    "    \n",
    "    Output\n",
    "    ----------\n",
    "    R : Array of Indexes of Today Portfolio by the Number of Feasible Portfolios\n",
    "    \"\"\"\n",
    "    \n",
    "    for i=1:length(R)\n",
    "        \n",
    "        fill!(R[i],i);                     \n",
    "        \n",
    "    end\n",
    "    \n",
    "end"
   ]
  },
  {
   "cell_type": "markdown",
   "metadata": {},
   "source": [
    "## Example"
   ]
  },
  {
   "cell_type": "markdown",
   "metadata": {},
   "source": [
    "### Parameters:"
   ]
  },
  {
   "cell_type": "code",
   "execution_count": 6,
   "metadata": {
    "collapsed": false
   },
   "outputs": [],
   "source": [
    "import LabourDP\n",
    "\n",
    "# Create Labour Portfolio\n",
    "G=5;\n",
    "N=3;\n",
    "\n",
    "N_G=9;\n",
    "\n",
    "# Create Labour Function\n",
    "fPortfolio=LabourDP.fPort(G);\n",
    "\n",
    "Labour=LabourDP.LabourPortfolio(G,N,N_G,fPortfolio);"
   ]
  },
  {
   "cell_type": "code",
   "execution_count": 8,
   "metadata": {
    "collapsed": false
   },
   "outputs": [],
   "source": [
    "Feas=FeasibleChoices(Labour);"
   ]
  },
  {
   "cell_type": "markdown",
   "metadata": {},
   "source": [
    "#### Feasible Network:"
   ]
  },
  {
   "cell_type": "markdown",
   "metadata": {},
   "source": [
    "Try to build a nice network graphs with Graphs.jl  \n",
    "At the moment it does not work for some reason. Try again in the future"
   ]
  }
 ],
 "metadata": {
  "kernelspec": {
   "display_name": "Julia 0.3.7",
   "language": "julia",
   "name": "julia 0.3"
  },
  "language_info": {
   "name": "julia",
   "version": "0.3.7"
  }
 },
 "nbformat": 4,
 "nbformat_minor": 0
}
