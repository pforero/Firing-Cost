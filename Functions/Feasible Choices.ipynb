{
 "cells": [
  {
   "cell_type": "markdown",
   "metadata": {},
   "source": [
    "# Feasible Labour Portfolio Choices"
   ]
  },
  {
   "cell_type": "markdown",
   "metadata": {},
   "source": [
    "Returns the Array with the Index Value of all Feasible future choices for Labour Portfolio i."
   ]
  },
  {
   "cell_type": "markdown",
   "metadata": {},
   "source": [
    "### Input Variables:"
   ]
  },
  {
   "cell_type": "markdown",
   "metadata": {},
   "source": [
    "$\\textit{f}$ Function used to Evaluate Feasible Portfolios  \n",
    "$\\mathbb{L}$ Labour Portfolios   "
   ]
  },
  {
   "cell_type": "markdown",
   "metadata": {},
   "source": [
    "### Output Variables:"
   ]
  },
  {
   "cell_type": "markdown",
   "metadata": {},
   "source": [
    "$\\mathbf{R}$ Array of Indexes of Today Portfolio by the Number of Feasible Portfolios  \n",
    "$\\mathbf{C}$ List with all feasible Portfolio indexes for each Portfolio"
   ]
  },
  {
   "cell_type": "markdown",
   "metadata": {},
   "source": [
    "## Function:"
   ]
  },
  {
   "cell_type": "code",
   "execution_count": 1,
   "metadata": {
    "collapsed": false
   },
   "outputs": [
    {
     "data": {
      "text/plain": [
       "FeasibleChoices (generic function with 1 method)"
      ]
     },
     "execution_count": 1,
     "metadata": {},
     "output_type": "execute_result"
    }
   ],
   "source": [
    "function FeasibleChoices(f::Function,L::Array{Any,1})\n",
    "    \n",
    "    \"\"\"Returns the Array with the \n",
    "    Index Value of all Feasible future\n",
    "    choices for Labour Portfolio i.\n",
    "\n",
    "    Parameters\n",
    "    ----------\n",
    "    f : Function used to create Feasible Portfolios\n",
    "    L : Labour Portfolios\n",
    "    \n",
    "    Parameters\n",
    "    ----------\n",
    "    R : Array of Indexes of Today Portfolio by the Number of Feasible Portfolios\n",
    "    C : List with all Feasible Portfolio indexes for each Portfolio\n",
    "    \"\"\"\n",
    "    \n",
    "    C=Array(Array{Int64,1},length(L))\n",
    "    \n",
    "    for i=1:length(L)\n",
    "\n",
    "        L_i=L[i];\n",
    "    \n",
    "        FeasL=f(L_i);\n",
    "    \n",
    "        C[i]=findin(L,FeasL);\n",
    "        \n",
    "    end\n",
    "    \n",
    "    R=deepcopy(C);\n",
    "    \n",
    "    for i=1:length(L)\n",
    "        \n",
    "        fill!(R[i],i);\n",
    "        \n",
    "    end\n",
    "\n",
    "    return R,C\n",
    "    \n",
    "end"
   ]
  },
  {
   "cell_type": "markdown",
   "metadata": {},
   "source": [
    "## Example"
   ]
  },
  {
   "cell_type": "markdown",
   "metadata": {},
   "source": [
    "### Parameters:"
   ]
  },
  {
   "cell_type": "code",
   "execution_count": 2,
   "metadata": {
    "collapsed": false
   },
   "outputs": [],
   "source": [
    "using LabourDP: LabourPortfolio, fPort, fFeas\n",
    "\n",
    "# Create Labour Portfolio\n",
    "G=3;\n",
    "N=3;\n",
    "\n",
    "M_D=9.;\n",
    "F_G=1.;\n",
    "\n",
    "# Create Labour Function\n",
    "fPortfolio=fPort(G);\n",
    "\n",
    "Labour=LabourPortfolio(G,N,M_D,F_G,fPortfolio);\n",
    "\n",
    "# Get Feasible Function\n",
    "Feasf=fFeas(G,N);"
   ]
  },
  {
   "cell_type": "code",
   "execution_count": 9,
   "metadata": {
    "collapsed": false
   },
   "outputs": [],
   "source": [
    "FeasibleChoices(Feasf,Labour);"
   ]
  },
  {
   "cell_type": "markdown",
   "metadata": {},
   "source": [
    "#### Feasible Network:"
   ]
  },
  {
   "cell_type": "markdown",
   "metadata": {},
   "source": [
    "Try to build a nice network graphs with Graphs.jl  \n",
    "At the moment it does not work for some reason. Try again in the future"
   ]
  }
 ],
 "metadata": {
  "kernelspec": {
   "display_name": "Julia 0.3.6",
   "language": "julia",
   "name": "julia 0.3"
  },
  "language_info": {
   "name": "julia",
   "version": "0.3.6"
  }
 },
 "nbformat": 4,
 "nbformat_minor": 0
}
