{
 "cells": [
  {
   "cell_type": "markdown",
   "metadata": {},
   "source": [
    "# Wage Structure (Non Float Method)"
   ]
  },
  {
   "cell_type": "markdown",
   "metadata": {},
   "source": [
    "Wages Function creates a grid with the wage structure of all tenure workers"
   ]
  },
  {
   "cell_type": "markdown",
   "metadata": {},
   "source": [
    "### Input Vairables:"
   ]
  },
  {
   "cell_type": "markdown",
   "metadata": {},
   "source": [
    "$G$ Max number of tenure workers  \n",
    "$\\beta_w$ Increase of wage each period of tenure  \n",
    "$\\alpha_w$ Starting wage"
   ]
  },
  {
   "cell_type": "markdown",
   "metadata": {},
   "source": [
    "### Output Variables:"
   ]
  },
  {
   "cell_type": "markdown",
   "metadata": {},
   "source": [
    "$\\mathbb{W}$ Grid with the Wage of workers for each tenure"
   ]
  },
  {
   "cell_type": "markdown",
   "metadata": {},
   "source": [
    "## Function:"
   ]
  },
  {
   "cell_type": "code",
   "execution_count": 6,
   "metadata": {
    "collapsed": false
   },
   "outputs": [
    {
     "data": {
      "text/plain": [
       "Wages (generic function with 1 method)"
      ]
     },
     "execution_count": 6,
     "metadata": {},
     "output_type": "execute_result"
    }
   ],
   "source": [
    "function Wages(G::Int,Beta::Number,Alpha::Number)\n",
    "    \n",
    "    \"\"\"METHOD: NON FLOAT\n",
    "    Create the Wage Structure of an Economy.\n",
    "\n",
    "    Parameters\n",
    "    ----------\n",
    "    G    : Max Number of Tenure Workers\n",
    "    Beta : Increase of wage each period of tenure \n",
    "    Alpha: Starting wage\n",
    "    \n",
    "    Parameters\n",
    "    ----------\n",
    "    W : Grid with the Wage of workers for each tenure\n",
    "    \"\"\"\n",
    "    \n",
    "    Beta=float(Beta);\n",
    "    Alpha=float(Alpha);\n",
    "    \n",
    "    W=Wages(G,Beta,Alpha);\n",
    "    \n",
    "    return W\n",
    "    \n",
    "end"
   ]
  }
 ],
 "metadata": {
  "kernelspec": {
   "display_name": "Julia 0.3.6",
   "language": "julia",
   "name": "julia 0.3"
  },
  "language_info": {
   "name": "julia",
   "version": "0.3.6"
  }
 },
 "nbformat": 4,
 "nbformat_minor": 0
}
