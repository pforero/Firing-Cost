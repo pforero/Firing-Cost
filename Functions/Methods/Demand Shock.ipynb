{
 "cells": [
  {
   "cell_type": "markdown",
   "metadata": {},
   "source": [
    "# Demand Markov Process (Non Float Method)"
   ]
  },
  {
   "cell_type": "markdown",
   "metadata": {},
   "source": [
    "Create the Demand Shock Grid and the Markov Transition Matrix."
   ]
  },
  {
   "cell_type": "markdown",
   "metadata": {},
   "source": [
    "### Input Variables:"
   ]
  },
  {
   "cell_type": "markdown",
   "metadata": {},
   "source": [
    "$M_D$ Maximum Demand Shock $\\max_D$  \n",
    "$m_D$ Minimum Demand Shock $\\min_D$  \n",
    "$\\rho$   Autocorrelation of Demand Shock  \n",
    "$N_D$ Number of Demand Shocks  \n",
    "  \n",
    "$d$ Standard Deviation from the Mean to the Max/Min"
   ]
  },
  {
   "cell_type": "markdown",
   "metadata": {},
   "source": [
    "### Output Variables:"
   ]
  },
  {
   "cell_type": "markdown",
   "metadata": {},
   "source": [
    "$\\mathbb{D}$ Grid with Demand Shock Realizations  \n",
    "$\\Pi_D$ Transition Matrix for the Markov Process of the Demand Shock"
   ]
  },
  {
   "cell_type": "markdown",
   "metadata": {},
   "source": [
    "## Function:"
   ]
  },
  {
   "cell_type": "code",
   "execution_count": 1,
   "metadata": {
    "collapsed": false
   },
   "outputs": [
    {
     "data": {
      "text/plain": [
       "Demand (generic function with 1 method)"
      ]
     },
     "execution_count": 1,
     "metadata": {},
     "output_type": "execute_result"
    }
   ],
   "source": [
    "using Distributions\n",
    "\n",
    "function Demand(M::Number,m::Number,ρ::Number,N::Int,d::Number)\n",
    "    \n",
    "    \"\"\"METHOD: NON FLOAT\n",
    "    Create the Demand Grid and the\n",
    "    Markov Transition Matrix of the\n",
    "    Demand Shock\n",
    "\n",
    "    Parameters\n",
    "    ----------\n",
    "    M: Maximum Demand Shock\n",
    "    m: Minimum Demand Shock \n",
    "    ρ: Autocorrelation\n",
    "    N: Number of Demand Shocks\n",
    "    d: Standard Deviation from the Mean to the Max/Min\n",
    "    \n",
    "    Output\n",
    "    ----------\n",
    "    D   : Grid with Demand Shock Realizations\n",
    "    Tran: Transition Matrix for the Markov Process of the Demand Shock \n",
    "    \"\"\"\n",
    "    \n",
    "    M=float(M);\n",
    "    m=float(m);\n",
    "    ρ=float(ρ);\n",
    "    d=float(d);\n",
    "    \n",
    "    D=Demand(M,m,ρ,N,d);\n",
    "    \n",
    "    return D\n",
    "    \n",
    "end"
   ]
  }
 ],
 "metadata": {
  "kernelspec": {
   "display_name": "Julia 0.3.6",
   "language": "julia",
   "name": "julia 0.3"
  },
  "language_info": {
   "name": "julia",
   "version": "0.3.6"
  }
 },
 "nbformat": 4,
 "nbformat_minor": 0
}
