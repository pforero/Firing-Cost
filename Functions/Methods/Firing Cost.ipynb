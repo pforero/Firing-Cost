{
 "cells": [
  {
   "cell_type": "markdown",
   "metadata": {},
   "source": [
    "# Firing Cost Structure (Non Float Method)"
   ]
  },
  {
   "cell_type": "markdown",
   "metadata": {},
   "source": [
    "Firing Cost Function creates a grid with the adjustment costs paid by the firm for firing a worker for each level of tenure."
   ]
  },
  {
   "cell_type": "markdown",
   "metadata": {},
   "source": [
    "### Input Variables:"
   ]
  },
  {
   "cell_type": "markdown",
   "metadata": {},
   "source": [
    "$G$ Max number of tenure workers  \n",
    "$\\phi$ Percentage of Wage Paid as Firing Cost  \n",
    "$S=\\left\\{ \\begin{array}{l l}\n",
    "1 & \\text{Seniority}\\\\\n",
    "0 & \\text{No Seniority}\n",
    "\\end{array} \\right.$ Increase of Firing Cost per year of tenure  \n",
    "$W$ Wage Structure"
   ]
  },
  {
   "cell_type": "markdown",
   "metadata": {},
   "source": [
    "### Output Variables:"
   ]
  },
  {
   "cell_type": "markdown",
   "metadata": {},
   "source": [
    "$\\mathbb{FC}$ Grid with the Firing Cost of each Tenure Worker"
   ]
  },
  {
   "cell_type": "markdown",
   "metadata": {},
   "source": [
    "## Function:"
   ]
  },
  {
   "cell_type": "code",
   "execution_count": 1,
   "metadata": {
    "collapsed": false
   },
   "outputs": [
    {
     "data": {
      "text/plain": [
       "FiringCost (generic function with 1 method)"
      ]
     },
     "execution_count": 1,
     "metadata": {},
     "output_type": "execute_result"
    }
   ],
   "source": [
    "function FiringCost(G::Int,ϕ::Number,S::Bool,W::Array{Float64,1})\n",
    "    \n",
    "    \"\"\"METHOD: NON FLOAT\n",
    "    Create a grid with the adjustment costs \n",
    "    paid by the firm for firing a worker for \n",
    "    each level of tenure.\n",
    "\n",
    "    Parameters\n",
    "    ----------\n",
    "    G: Max Number of Tenure Workers\n",
    "    ϕ: Firing Cost as Share of Wage \n",
    "    S: Seniority Dummy\n",
    "    W: Wage Structure\n",
    "    \n",
    "    Output\n",
    "    ----------\n",
    "    FC: Grid with the Firing Cost of each Tenure Worker\n",
    "    \"\"\"\n",
    "    \n",
    "    ϕ=float(ϕ);\n",
    "    \n",
    "    FC=FiringCost(G,ϕ,S,W);\n",
    "    \n",
    "    return FC\n",
    "    \n",
    "end"
   ]
  }
 ],
 "metadata": {
  "kernelspec": {
   "display_name": "Julia 0.3.6",
   "language": "julia",
   "name": "julia 0.3"
  },
  "language_info": {
   "name": "julia",
   "version": "0.3.6"
  }
 },
 "nbformat": 4,
 "nbformat_minor": 0
}
