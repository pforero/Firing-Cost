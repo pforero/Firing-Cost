{
 "cells": [
  {
   "cell_type": "markdown",
   "metadata": {},
   "source": [
    "# Transition Matrix for QnR (Non Float Method)"
   ]
  },
  {
   "cell_type": "markdown",
   "metadata": {},
   "source": [
    "Returns a Transition Matrix for shocks in Quit and Retirment  \n",
    "It uses a binomial function to calculate the probability of Quits and Retirements"
   ]
  },
  {
   "cell_type": "markdown",
   "metadata": {},
   "source": [
    "### Input Variables:"
   ]
  },
  {
   "cell_type": "markdown",
   "metadata": {},
   "source": [
    "$\\mathbb{L}$ Labour Portfolios   \n",
    "$\\textbf{Feas}$ List of indexes of all Feasible QnR Shocks    \n",
    "$\\delta$ Probability of a worker Quiting in the last tenure group   \n",
    "$\\gamma$ Probability of a worker Retiring in all but the last tenure group"
   ]
  },
  {
   "cell_type": "markdown",
   "metadata": {},
   "source": [
    "### Output Variables:"
   ]
  },
  {
   "cell_type": "markdown",
   "metadata": {},
   "source": [
    "$\\mathbb{\\Pi}_Q$ Sparse Transition Matrix of Quit and Retirment"
   ]
  },
  {
   "cell_type": "markdown",
   "metadata": {},
   "source": [
    "## Function:"
   ]
  },
  {
   "cell_type": "code",
   "execution_count": 5,
   "metadata": {
    "collapsed": false
   },
   "outputs": [
    {
     "data": {
      "text/plain": [
       "QnRTransition (generic function with 1 method)"
      ]
     },
     "execution_count": 5,
     "metadata": {},
     "output_type": "execute_result"
    }
   ],
   "source": [
    "function QnRTransition(L::Array{Any,1},F::(Array{Array{Int64,1},1},Array{Array{Int64,1},1}),δ::Number,γ::Number)\n",
    "    \n",
    "    \"\"\"METHOD: NON FLOAT\n",
    "    Returns a Transition Matrix \n",
    "    for shocks in Quit and Retirment\n",
    "\n",
    "    Parameters\n",
    "    ----------\n",
    "    L : Labour Portfolios\n",
    "    F : List of indexes of all Feasible QnR Shocks\n",
    "    δ : Probability of a worker Quiting in the last tenure group\n",
    "    γ : Probability of a worker Retiring in all but the last tenure group\n",
    "    \n",
    "    Parameters\n",
    "    ----------\n",
    "    Π : Transition Matrix of Quit and Retirment\n",
    "    \"\"\"\n",
    "    \n",
    "    δ=float(δ);\n",
    "    γ=float(γ);\n",
    "    \n",
    "    Π=QnRTransition(L,F,δ,γ);\n",
    "    \n",
    "    return Π\n",
    "    \n",
    "end"
   ]
  }
 ],
 "metadata": {
  "kernelspec": {
   "display_name": "Julia 0.3.6",
   "language": "julia",
   "name": "julia 0.3"
  },
  "language_info": {
   "name": "julia",
   "version": "0.3.6"
  }
 },
 "nbformat": 4,
 "nbformat_minor": 0
}
