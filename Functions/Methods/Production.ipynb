{
 "cells": [
  {
   "cell_type": "markdown",
   "metadata": {},
   "source": [
    "# Production Structure (Non Float Method)"
   ]
  },
  {
   "cell_type": "markdown",
   "metadata": {},
   "source": [
    "Poduction Function creates a grid with the production structure of all tenure workers  \n",
    "It fits a Polynomial going through the starting production, peak production and last production"
   ]
  },
  {
   "cell_type": "markdown",
   "metadata": {},
   "source": [
    "### Input Vairables:"
   ]
  },
  {
   "cell_type": "markdown",
   "metadata": {},
   "source": [
    "$G$ Max number of tenure workers  \n",
    "$F_0$ Starting Production  \n",
    "$F_G$ Last Tenure Production  \n",
    "$\\hat{F}$ Peak Production  \n",
    "$\\hat{G}$ Tenure of Peak Production"
   ]
  },
  {
   "cell_type": "markdown",
   "metadata": {},
   "source": [
    "### Output Variables:"
   ]
  },
  {
   "cell_type": "markdown",
   "metadata": {},
   "source": [
    "$\\mathbb{F}$ Grid with Production of each Tenure worker"
   ]
  },
  {
   "cell_type": "markdown",
   "metadata": {},
   "source": [
    "## Function:"
   ]
  },
  {
   "cell_type": "code",
   "execution_count": 1,
   "metadata": {
    "collapsed": false
   },
   "outputs": [
    {
     "data": {
      "text/plain": [
       "Production (generic function with 1 method)"
      ]
     },
     "execution_count": 1,
     "metadata": {},
     "output_type": "execute_result"
    }
   ],
   "source": [
    "function Production(G::Int,F0::Number,FG::Number,FK::Number,GK::Int)\n",
    "    \n",
    "    \"\"\"METHOD: NON FLOAT\n",
    "    Create the Wage Structure of an Economy.\n",
    "    It fits a second order polynomial for the three parameter values\n",
    "    and extrapolates for the rest of the tenure values.\n",
    "\n",
    "    Parameters\n",
    "    ----------\n",
    "    G : Max Number of Tenure Workers\n",
    "    F0: Starting Production \n",
    "    FG: Last Tenure Production\n",
    "    FK: Peak Production\n",
    "    GK: Tenure of Peak Production\n",
    "    \n",
    "    Output\n",
    "    ----------\n",
    "    F : Grid with Production of each Tenure worker\n",
    "    \"\"\"\n",
    "    \n",
    "    F0=float(F0);\n",
    "    FG=float(FG);\n",
    "    FK=float(FK);\n",
    "    \n",
    "    F=Production(G,F0,FG,FK,GK);\n",
    "    \n",
    "    return F\n",
    "    \n",
    "end"
   ]
  }
 ],
 "metadata": {
  "kernelspec": {
   "display_name": "Julia 0.3.6",
   "language": "julia",
   "name": "julia 0.3"
  },
  "language_info": {
   "name": "julia",
   "version": "0.3.6"
  }
 },
 "nbformat": 4,
 "nbformat_minor": 0
}
