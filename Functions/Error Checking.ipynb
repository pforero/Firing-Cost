{
 "cells": [
  {
   "cell_type": "markdown",
   "metadata": {},
   "source": [
    "# Check Errors"
   ]
  },
  {
   "cell_type": "markdown",
   "metadata": {},
   "source": [
    "Check if Parameters are correctly specified"
   ]
  },
  {
   "cell_type": "markdown",
   "metadata": {},
   "source": [
    "### Input Vairables:"
   ]
  },
  {
   "cell_type": "markdown",
   "metadata": {},
   "source": [
    "$\\beta$ Firm's intertemporal discount rate  \n",
    "  \n",
    "$G$ Number of different heterogenous tenure workes   \n",
    "$N$ Max Number of Workers hired during one period  \n",
    "  \n",
    "$\\alpha_w$ Entry level wage  \n",
    "$\\beta_w$ Period Wage Increase with tenure  \n",
    "  \n",
    "$\\hat{G}$ Tenure for Peaked Production  \n",
    "  \n",
    " $\\phi$ Percentage of Wage Paid as Firing Cost  \n",
    "$S=\\left\\{ \\begin{array}{l l}\n",
    "1 & \\text{Seniority}\\\\\n",
    "0 & \\text{No Seniority}\n",
    "\\end{array} \\right.$ Increase of Firing Cost per year of tenure  \n",
    "  \n",
    "$\\delta$ Probability of a worker Quiting in the last tenure group  \n",
    "$\\gamma$ Probability of a worker Retiring in all but the last tenure group   \n",
    "  \n",
    "$M_D$ Maximum Demand Shock $\\max_D$  \n",
    "$m_D$ Minimum Demand Shock $\\min_D$  \n",
    "$\\rho$   Autocorrelation of Demand Shock  \n",
    "$N_D$ Number of Demand Shocks  \n",
    "$d$ Standard Deviation from the Mean to the Max/Min  "
   ]
  },
  {
   "cell_type": "markdown",
   "metadata": {},
   "source": [
    "### Output Variables:"
   ]
  },
  {
   "cell_type": "markdown",
   "metadata": {},
   "source": [
    "$\\textit{Error}$ Error Message"
   ]
  },
  {
   "cell_type": "markdown",
   "metadata": {},
   "source": [
    "## Function:"
   ]
  },
  {
   "cell_type": "code",
   "execution_count": 19,
   "metadata": {
    "collapsed": false
   },
   "outputs": [
    {
     "data": {
      "text/plain": [
       "ErrorCheck (generic function with 1 method)"
      ]
     },
     "execution_count": 19,
     "metadata": {},
     "output_type": "execute_result"
    }
   ],
   "source": [
    "function ErrorCheck(x;β=0.9,N=3,G=3,α₁=0.0,β₁=0.0,Ĝ=2,ϕ=0.0,S=true,δ=0.5,γ=0.5,M_D=10.0,m_D=5.0,ρ=0.0,N_D=2,d=3.0)\n",
    "    \n",
    "    \"\"\"Create the Wage Structure of an Economy.\n",
    "\n",
    "    Parameters\n",
    "    ----------\n",
    "    β  : Firm's intertemporal discount rate\n",
    "    G  : Number of different heterogenous tenure workes  \n",
    "    N  : Max Number of Workers hired during one period\n",
    "    α₁ : Entry level wage  \n",
    "    β₁ : Period Wage Increase with tenure \n",
    "    Ĝ  : Tenure for Peaked Production\n",
    "    ϕ  : Percentage of Wage Paid as Firing Cost \n",
    "    S  : Boolean for Tenure increase in Firing Cost\n",
    "    δ  : Probability of a worker Quiting in the last tenure group  \n",
    "    γ  : Probability of a worker Retiring in all but the last tenure group  \n",
    "    M_D: Maximum Demand Shock \n",
    "    m_D: Minimum Demand Shock \n",
    "    ρ  : Autocorrelation of Demand Shock  \n",
    "    N_D: Number of Demand Shocks  \n",
    "    d  : Standard Deviation from the Mean to the Max/Min \n",
    "    \n",
    "    Parameters\n",
    "    ----------\n",
    "    Error : Error Message\n",
    "    \"\"\"\n",
    "    \n",
    "    0<β<1           || error(\"\\u03B2 \\u2209 (0,1)\");                              # Check if β is between 0 and 1\n",
    "    \n",
    "    isa(N,Int)      || error(\"N is not and Interger\");                            # Check if N is an Interger\n",
    "    isa(G,Int)      || error(\"G is not and Interger\");                            # Check if G is an Interger\n",
    "    N>0             || error(\"N \\u226F 0\");                                       # Check if N is greater than zero  \n",
    "    G>0             || error(\"G \\u226F 0\");                                       # Check if G is greater than zero\n",
    "    \n",
    "    α₁>=0           || error(\"Starting Wage is Negative\");                        # Check if Wages are negative\n",
    "    α₁+(β₁*(G-1))>=0|| error(\"Slope of Wage Function creates Negative Wages\");    # Check if Wages are negative\n",
    "    \n",
    "    isa(Ĝ,Int)      || error(\"G\\u0302 is not an Interger\");                       # Check if Ĝ is an Interger\n",
    "    1<Ĝ<G           || error(\"G\\u0302 \\u2209 (0,G)\");                             # Check if Ĝ is a Valid Tenure Year\n",
    "    \n",
    "    ϕ>=0            || error(\"Firing Cost must not be negative\");                 # Check if ϕ>0\n",
    "    isa(S,Bool)     || error(\"Seniority (S) is not Boolean\");                     # Check S is Boolean\n",
    "    \n",
    "    0<=δ<=1         || error(\"\\u03B4 \\u2209 [0,1]\");                              # Check if δ is between 0 and 1\n",
    "    0<=γ<=1         || error(\"\\u03B3 \\u2209 [0,1]\");                              # Check if γ is between 0 and 1\n",
    "    \n",
    "    -1<ρ<1          || error(\"\\u03C1 \\u2209 (-1,1) No Unit Root Allowed\");        # Check if ρ has a Unit Root\n",
    "    M_D>m_D         || error(\"Maximum Demand is not larger than Minimum Demand\"); # Check of M_D>m_D\n",
    "    m_D>0           || error(\"Minimum Demand must be Positive\");                  # Check of M_D>m_D\n",
    "    N_D>1           || error(\"Number of Demand Shocks must be larger than 1\");    # Check if N_D>1\n",
    "    isa(N_D,Int)    || error(\"Number of Demand Grid is not an Interger\");         # Check N_D is Interger\n",
    "    d>0             || error(\"Standard Deviation of Max is not Positive\");        # Check if d>0\n",
    "    \n",
    "end"
   ]
  },
  {
   "cell_type": "markdown",
   "metadata": {},
   "source": [
    "## Example"
   ]
  },
  {
   "cell_type": "markdown",
   "metadata": {},
   "source": [
    "#### $\\beta$"
   ]
  },
  {
   "cell_type": "code",
   "execution_count": 26,
   "metadata": {
    "collapsed": false,
    "scrolled": true
   },
   "outputs": [
    {
     "ename": "LoadError",
     "evalue": "β ∉ (0,1)\nwhile loading In[26], in expression starting on line 1",
     "output_type": "error",
     "traceback": [
      "β ∉ (0,1)\nwhile loading In[26], in expression starting on line 1",
      "",
      " in ErrorCheck at In[19]:28"
     ]
    }
   ],
   "source": [
    "ErrorCheck(1,β=1.7)"
   ]
  },
  {
   "cell_type": "markdown",
   "metadata": {},
   "source": [
    "#### $G$"
   ]
  },
  {
   "cell_type": "code",
   "execution_count": 4,
   "metadata": {
    "collapsed": false,
    "scrolled": true
   },
   "outputs": [
    {
     "ename": "LoadError",
     "evalue": "G is not and Interger\nwhile loading In[4], in expression starting on line 1",
     "output_type": "error",
     "traceback": [
      "G is not and Interger\nwhile loading In[4], in expression starting on line 1",
      "",
      " in ErrorCheck at In[2]:34"
     ]
    }
   ],
   "source": [
    "ErrorCheck(1,G=5.0)"
   ]
  },
  {
   "cell_type": "markdown",
   "metadata": {},
   "source": [
    "#### $N$"
   ]
  },
  {
   "cell_type": "code",
   "execution_count": 10,
   "metadata": {
    "collapsed": false,
    "scrolled": true
   },
   "outputs": [
    {
     "ename": "LoadError",
     "evalue": "N is not and Interger\nwhile loading In[10], in expression starting on line 1",
     "output_type": "error",
     "traceback": [
      "N is not and Interger\nwhile loading In[10], in expression starting on line 1",
      "",
      " in ErrorCheck at In[2]:33"
     ]
    }
   ],
   "source": [
    "ErrorCheck(1,N=1.7)"
   ]
  },
  {
   "cell_type": "markdown",
   "metadata": {},
   "source": [
    "#### $\\alpha_\\omega$"
   ]
  },
  {
   "cell_type": "code",
   "execution_count": 6,
   "metadata": {
    "collapsed": false,
    "scrolled": true
   },
   "outputs": [
    {
     "ename": "LoadError",
     "evalue": "Starting Wage is Negative\nwhile loading In[6], in expression starting on line 1",
     "output_type": "error",
     "traceback": [
      "Starting Wage is Negative\nwhile loading In[6], in expression starting on line 1",
      "",
      " in ErrorCheck at In[2]:38"
     ]
    }
   ],
   "source": [
    "ErrorCheck(1,α₁=-1)"
   ]
  },
  {
   "cell_type": "markdown",
   "metadata": {},
   "source": [
    "#### $\\beta_\\omega$"
   ]
  },
  {
   "cell_type": "code",
   "execution_count": 8,
   "metadata": {
    "collapsed": false,
    "scrolled": true
   },
   "outputs": [
    {
     "ename": "LoadError",
     "evalue": "Slope of Wage Function creates Negative Wages\nwhile loading In[8], in expression starting on line 1",
     "output_type": "error",
     "traceback": [
      "Slope of Wage Function creates Negative Wages\nwhile loading In[8], in expression starting on line 1",
      "",
      " in ErrorCheck at In[2]:39"
     ]
    }
   ],
   "source": [
    "ErrorCheck(1,β₁=-3,α₁=1,G=3)"
   ]
  },
  {
   "cell_type": "markdown",
   "metadata": {},
   "source": [
    "#### $\\hat{G}$"
   ]
  },
  {
   "cell_type": "code",
   "execution_count": 11,
   "metadata": {
    "collapsed": false,
    "scrolled": true
   },
   "outputs": [
    {
     "ename": "LoadError",
     "evalue": "Ĝ ∉ (0,G)\nwhile loading In[11], in expression starting on line 1",
     "output_type": "error",
     "traceback": [
      "Ĝ ∉ (0,G)\nwhile loading In[11], in expression starting on line 1",
      "",
      " in ErrorCheck at In[2]:42"
     ]
    }
   ],
   "source": [
    "ErrorCheck(1,G=3,Ĝ=4)"
   ]
  },
  {
   "cell_type": "markdown",
   "metadata": {},
   "source": [
    "#### $\\phi$"
   ]
  },
  {
   "cell_type": "code",
   "execution_count": 13,
   "metadata": {
    "collapsed": false,
    "scrolled": true
   },
   "outputs": [
    {
     "ename": "LoadError",
     "evalue": "Firing Cost must not be negative\nwhile loading In[13], in expression starting on line 1",
     "output_type": "error",
     "traceback": [
      "Firing Cost must not be negative\nwhile loading In[13], in expression starting on line 1",
      "",
      " in ErrorCheck at In[2]:44"
     ]
    }
   ],
   "source": [
    "ErrorCheck(1,ϕ=-1)"
   ]
  },
  {
   "cell_type": "markdown",
   "metadata": {},
   "source": [
    "#### $S$"
   ]
  },
  {
   "cell_type": "code",
   "execution_count": 14,
   "metadata": {
    "collapsed": false,
    "scrolled": true
   },
   "outputs": [
    {
     "ename": "LoadError",
     "evalue": "Seniority (S) is not Boolean\nwhile loading In[14], in expression starting on line 1",
     "output_type": "error",
     "traceback": [
      "Seniority (S) is not Boolean\nwhile loading In[14], in expression starting on line 1",
      "",
      " in ErrorCheck at In[2]:45"
     ]
    }
   ],
   "source": [
    "ErrorCheck(1,S=1)"
   ]
  },
  {
   "cell_type": "markdown",
   "metadata": {},
   "source": [
    "#### $\\delta$"
   ]
  },
  {
   "cell_type": "code",
   "execution_count": 15,
   "metadata": {
    "collapsed": false,
    "scrolled": true
   },
   "outputs": [
    {
     "ename": "LoadError",
     "evalue": "δ ∉ [0,1]\nwhile loading In[15], in expression starting on line 1",
     "output_type": "error",
     "traceback": [
      "δ ∉ [0,1]\nwhile loading In[15], in expression starting on line 1",
      "",
      " in ErrorCheck at In[2]:47"
     ]
    }
   ],
   "source": [
    "ErrorCheck(1,δ=1.2)"
   ]
  },
  {
   "cell_type": "markdown",
   "metadata": {},
   "source": [
    "#### $\\gamma$"
   ]
  },
  {
   "cell_type": "code",
   "execution_count": 16,
   "metadata": {
    "collapsed": false,
    "scrolled": true
   },
   "outputs": [
    {
     "ename": "LoadError",
     "evalue": "γ ∉ [0,1]\nwhile loading In[16], in expression starting on line 1",
     "output_type": "error",
     "traceback": [
      "γ ∉ [0,1]\nwhile loading In[16], in expression starting on line 1",
      "",
      " in ErrorCheck at In[2]:48"
     ]
    }
   ],
   "source": [
    "ErrorCheck(1,γ=-0.7)"
   ]
  },
  {
   "cell_type": "markdown",
   "metadata": {},
   "source": [
    "#### $M_D$"
   ]
  },
  {
   "cell_type": "code",
   "execution_count": 17,
   "metadata": {
    "collapsed": false,
    "scrolled": true
   },
   "outputs": [
    {
     "ename": "LoadError",
     "evalue": "Maximum Demand is not larger than Minimum Demand\nwhile loading In[17], in expression starting on line 1",
     "output_type": "error",
     "traceback": [
      "Maximum Demand is not larger than Minimum Demand\nwhile loading In[17], in expression starting on line 1",
      "",
      " in ErrorCheck at In[2]:51"
     ]
    }
   ],
   "source": [
    "ErrorCheck(1,M_D=5,m_D=6)"
   ]
  },
  {
   "cell_type": "markdown",
   "metadata": {},
   "source": [
    "#### $m_D$"
   ]
  },
  {
   "cell_type": "code",
   "execution_count": 20,
   "metadata": {
    "collapsed": false,
    "scrolled": true
   },
   "outputs": [
    {
     "ename": "LoadError",
     "evalue": "Minimum Demand must be Positive\nwhile loading In[20], in expression starting on line 1",
     "output_type": "error",
     "traceback": [
      "Minimum Demand must be Positive\nwhile loading In[20], in expression starting on line 1",
      "",
      " in ErrorCheck at In[19]:49"
     ]
    }
   ],
   "source": [
    "ErrorCheck(1,m_D=-1)"
   ]
  },
  {
   "cell_type": "markdown",
   "metadata": {},
   "source": [
    "#### $\\rho$"
   ]
  },
  {
   "cell_type": "code",
   "execution_count": 21,
   "metadata": {
    "collapsed": false,
    "scrolled": true
   },
   "outputs": [
    {
     "ename": "LoadError",
     "evalue": "ρ ∉ (-1,1) No Unit Root Allowed\nwhile loading In[21], in expression starting on line 1",
     "output_type": "error",
     "traceback": [
      "ρ ∉ (-1,1) No Unit Root Allowed\nwhile loading In[21], in expression starting on line 1",
      "",
      " in ErrorCheck at In[19]:47"
     ]
    }
   ],
   "source": [
    "ErrorCheck(1,ρ=1)"
   ]
  },
  {
   "cell_type": "markdown",
   "metadata": {},
   "source": [
    "#### $N_D$"
   ]
  },
  {
   "cell_type": "code",
   "execution_count": 23,
   "metadata": {
    "collapsed": false,
    "scrolled": true
   },
   "outputs": [
    {
     "ename": "LoadError",
     "evalue": "Number of Demand Grid is not an Interger\nwhile loading In[23], in expression starting on line 1",
     "output_type": "error",
     "traceback": [
      "Number of Demand Grid is not an Interger\nwhile loading In[23], in expression starting on line 1",
      "",
      " in ErrorCheck at In[19]:51"
     ]
    }
   ],
   "source": [
    "ErrorCheck(1,N_D=1.5)"
   ]
  },
  {
   "cell_type": "markdown",
   "metadata": {},
   "source": [
    "#### $d$"
   ]
  },
  {
   "cell_type": "code",
   "execution_count": 24,
   "metadata": {
    "collapsed": false,
    "scrolled": true
   },
   "outputs": [
    {
     "ename": "LoadError",
     "evalue": "Standard Deviation of Max is not Positive\nwhile loading In[24], in expression starting on line 1",
     "output_type": "error",
     "traceback": [
      "Standard Deviation of Max is not Positive\nwhile loading In[24], in expression starting on line 1",
      "",
      " in ErrorCheck at In[19]:52"
     ]
    }
   ],
   "source": [
    "ErrorCheck(1,d=0)"
   ]
  }
 ],
 "metadata": {
  "kernelspec": {
   "display_name": "Julia 0.3.6",
   "language": "julia",
   "name": "julia 0.3"
  },
  "language_info": {
   "name": "julia",
   "version": "0.3.6"
  }
 },
 "nbformat": 4,
 "nbformat_minor": 0
}
