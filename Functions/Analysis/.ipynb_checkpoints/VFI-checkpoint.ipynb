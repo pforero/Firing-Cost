{
 "cells": [
  {
   "cell_type": "markdown",
   "metadata": {},
   "source": [
    "# Value Function Iteration"
   ]
  },
  {
   "cell_type": "markdown",
   "metadata": {},
   "source": [
    "### Input Variables:"
   ]
  },
  {
   "cell_type": "markdown",
   "metadata": {},
   "source": [
    "$\\beta$ Firm's Discount Factor  \n",
    "$\\mathbf{P}$ Profits  \n",
    "  \n",
    "$\\mathbb{\\Pi}_D$ Demand Shocks    \n",
    "$\\mathbb{\\Pi}_Q$ Quit and Retirement Shock  \n",
    "  \n",
    "$\\textbf{M}$ Feasibility Indexes "
   ]
  },
  {
   "cell_type": "markdown",
   "metadata": {},
   "source": [
    "### Output Variables:"
   ]
  },
  {
   "cell_type": "markdown",
   "metadata": {},
   "source": [
    "$\\mathbf{V}$ Value Function  \n",
    "$\\textbf{G}$ Optimal Policy"
   ]
  },
  {
   "cell_type": "markdown",
   "metadata": {},
   "source": [
    "## Function:"
   ]
  },
  {
   "cell_type": "markdown",
   "metadata": {},
   "source": [
    "As of: 29/04/2015"
   ]
  },
  {
   "cell_type": "code",
   "execution_count": 1,
   "metadata": {
    "collapsed": false
   },
   "outputs": [
    {
     "data": {
      "text/plain": [
       "VFI (generic function with 1 method)"
      ]
     },
     "execution_count": 1,
     "metadata": {},
     "output_type": "execute_result"
    }
   ],
   "source": [
    "function VFI(β::Float64,P::Array{Array{Float64,2},1},D::Array{Float64,2},Q::SparseMatrixCSC{Float64,Int64},M::Array{Array{Int64,1},1})\n",
    "    \n",
    "    \"\"\"Solve the Dynamic Problem by \n",
    "    using Value Function Iteration.\n",
    "\n",
    "    Parameters\n",
    "    ----------\n",
    "    β : Discount Factor\n",
    "    P : Profits\n",
    "    D : Transition Matrix of Demand Shocks \n",
    "    Q : Transition Matrix of\n",
    "    M : Matrices with Feasibility Indexes\n",
    "    \n",
    "    Output\n",
    "    ----------\n",
    "    V : Value Function\n",
    "    G : Optimal Policy\n",
    "    \"\"\"\n",
    "    \n",
    "    S_L=length(P);\n",
    "    S_D=size(D,1);\n",
    "    \n",
    "    V0=zeros(S_D,S_L);\n",
    "    V=ones(S_D,S_L);\n",
    "    \n",
    "    while norm(V-V0)>eps(Float32)\n",
    "        \n",
    "        V0=deepcopy(V);\n",
    "        \n",
    "        Vt=β*D*V0*Q';\n",
    "        \n",
    "        for i=1:S_L, j=1:S_D\n",
    "            \n",
    "            V[j,i]=maximum(P[i][j,:]+Vt[j,M[i]]);         # 471/541 = 87%\n",
    "            \n",
    "        end\n",
    "        \n",
    "    end\n",
    "    \n",
    "    G=zeros(Int,S_D,S_L);\n",
    "    \n",
    "    Vt=β*D*V0*Q';\n",
    "    \n",
    "    for i=1:S_L, j=1:S_D\n",
    "        \n",
    "        g=findmax([P[i][j,:]+Vt[j,M[i]]...]);\n",
    "            \n",
    "        G[j,i]=M[i][g[2]];\n",
    "            \n",
    "    end\n",
    "    \n",
    "    return V, G\n",
    "    \n",
    "end"
   ]
  },
  {
   "cell_type": "code",
   "execution_count": 2,
   "metadata": {
    "collapsed": false
   },
   "outputs": [
    {
     "data": {
      "text/plain": [
       "0.8706099815157117"
      ]
     },
     "execution_count": 2,
     "metadata": {},
     "output_type": "execute_result"
    }
   ],
   "source": [
    "471/541"
   ]
  },
  {
   "cell_type": "markdown",
   "metadata": {},
   "source": [
    "## Growing Size"
   ]
  },
  {
   "cell_type": "markdown",
   "metadata": {},
   "source": [
    "$G$"
   ]
  },
  {
   "cell_type": "code",
   "execution_count": 3,
   "metadata": {
    "collapsed": false
   },
   "outputs": [],
   "source": [
    "import LabourDP\n",
    "\n",
    "β=0.9;\n",
    "N=3;\n",
    "α₁=0.8;\n",
    "β₁=0.1;\n",
    "F_0=0.8;\n",
    "F_G=1.0;\n",
    "F̂=1.1;\n",
    "ϕ=0.2;\n",
    "S=true;\n",
    "M_D=10.;\n",
    "m_D=5.;\n",
    "ρ=0.8;\n",
    "N_D=6;\n",
    "d=2.;\n",
    "N_G=10;\n",
    "δ=0.1;\n",
    "γ=0.5;"
   ]
  },
  {
   "cell_type": "markdown",
   "metadata": {},
   "source": [
    "## Time"
   ]
  },
  {
   "cell_type": "markdown",
   "metadata": {},
   "source": [
    "Max Size and Sample Size"
   ]
  },
  {
   "cell_type": "code",
   "execution_count": 4,
   "metadata": {
    "collapsed": true
   },
   "outputs": [],
   "source": [
    "Ms=6;\n",
    "Ss=1;"
   ]
  },
  {
   "cell_type": "markdown",
   "metadata": {},
   "source": [
    "### Test"
   ]
  },
  {
   "cell_type": "code",
   "execution_count": null,
   "metadata": {
    "collapsed": false
   },
   "outputs": [],
   "source": [
    "# Warm Up Run\n",
    "G=3;\n",
    "W=LabourDP.Wages(G,β₁,α₁);\n",
    "F=LabourDP.Production(G,F_0,F_G,F̂,div(G,2)+1);\n",
    "FC=LabourDP.FiringCost(G,ϕ,S,W);\n",
    "D=LabourDP.Demand(M_D,m_D,ρ,N_D,d);\n",
    "fP=LabourDP.fPort(G);\n",
    "L=LabourDP.LabourPortfolio(G,N,N_G,fP);\n",
    "Feas=LabourDP.FeasibleChoices(L);\n",
    "QnRFeas=LabourDP.FeasibleQnR(L);\n",
    "QnR=LabourDP.QnRTransition(L,QnRFeas,δ,γ);\n",
    "P=LabourDP.Profits(L,D[1],W,F,FC,Feas);\n",
    "VFI(β,P,D[2],QnR,Feas[2]);#\n",
    "\n",
    "x=[1:Ms-2];\n",
    "t=[1.0:Ms-2];\n",
    "b=[1.0:Ss];\n",
    "\n",
    "for i=1:Ms-2\n",
    "            \n",
    "    G=i+2;\n",
    "    W=LabourDP.Wages(G,β₁,α₁);\n",
    "    F=LabourDP.Production(G,F_0,F_G,F̂,div(G,2)+1);\n",
    "    FC=LabourDP.FiringCost(G,ϕ,S,W);\n",
    "    D=LabourDP.Demand(M_D,m_D,ρ,N_D,d);\n",
    "    fP=LabourDP.fPort(G);\n",
    "    L=LabourDP.LabourPortfolio(G,N,N_G,fP);\n",
    "    Feas=LabourDP.FeasibleChoices(L);\n",
    "    QnRFeas=LabourDP.FeasibleQnR(L);\n",
    "    QnR=LabourDP.QnRTransition(L,QnRFeas,δ,γ);\n",
    "    P=LabourDP.Profits(L,D[1],W,F,FC,Feas);\n",
    "    \n",
    "    x[i]=length(L);\n",
    "    \n",
    "    for j=1:Ss\n",
    "\n",
    "        a=@elapsed VFI(β,P,D[2],QnR,Feas[2])\n",
    "        b[j]=a;\n",
    "        \n",
    "    end\n",
    "    \n",
    "    t[i]=minimum(b);\n",
    "    \n",
    "end"
   ]
  },
  {
   "cell_type": "markdown",
   "metadata": {},
   "source": [
    "### Plot Result"
   ]
  },
  {
   "cell_type": "code",
   "execution_count": null,
   "metadata": {
    "collapsed": false,
    "scrolled": false
   },
   "outputs": [],
   "source": [
    "using Gadfly\n",
    "\n",
    "plot(x=x, y=t,Guide.xlabel(\"G\"),Guide.ylabel(\"Seconds\"),Guide.title(\"Time\"), Geom.line, Geom.point)"
   ]
  },
  {
   "cell_type": "markdown",
   "metadata": {},
   "source": [
    "## Memory"
   ]
  },
  {
   "cell_type": "markdown",
   "metadata": {},
   "source": [
    "Max Size and Sample Size"
   ]
  },
  {
   "cell_type": "code",
   "execution_count": null,
   "metadata": {
    "collapsed": true
   },
   "outputs": [],
   "source": [
    "Ms=6;\n",
    "Ss=1;"
   ]
  },
  {
   "cell_type": "markdown",
   "metadata": {},
   "source": [
    "### Test"
   ]
  },
  {
   "cell_type": "code",
   "execution_count": null,
   "metadata": {
    "collapsed": false
   },
   "outputs": [],
   "source": [
    "# Warm Up Run\n",
    "G=3;\n",
    "W=LabourDP.Wages(G,β₁,α₁);\n",
    "F=LabourDP.Production(G,F_0,F_G,F̂,div(G,2)+1);\n",
    "FC=LabourDP.FiringCost(G,ϕ,S,W);\n",
    "D=LabourDP.Demand(M_D,m_D,ρ,N_D,d);\n",
    "fP=LabourDP.fPort(G);\n",
    "L=LabourDP.LabourPortfolio(G,N,N_G,fP);\n",
    "Feas=LabourDP.FeasibleChoices(L);\n",
    "QnRFeas=LabourDP.FeasibleQnR(L);\n",
    "QnR=LabourDP.QnRTransition(L,QnRFeas,δ,γ);\n",
    "P=LabourDP.Profits(L,D[1],W,F,FC,Feas);\n",
    "VFI(β,P,D[2],QnR,Feas[2]);#\n",
    "\n",
    "x=[1:Ms-2];\n",
    "t=[1.0:Ms-2];\n",
    "b=[1.0:Ss];\n",
    "\n",
    "for i=1:Ms-2\n",
    "    \n",
    "    G=i+2;\n",
    "    W=LabourDP.Wages(G,β₁,α₁);\n",
    "    F=LabourDP.Production(G,F_0,F_G,F̂,div(G,2)+1);\n",
    "    FC=LabourDP.FiringCost(G,ϕ,S,W);\n",
    "    D=LabourDP.Demand(M_D,m_D,ρ,N_D,d);\n",
    "    fP=LabourDP.fPort(G);\n",
    "    L=LabourDP.LabourPortfolio(G,N,N_G,fP);\n",
    "    Feas=LabourDP.FeasibleChoices(L);\n",
    "    QnRFeas=LabourDP.FeasibleQnR(L);\n",
    "    QnR=LabourDP.QnRTransition(L,QnRFeas,δ,γ);\n",
    "    P=LabourDP.Profits(L,D[1],W,F,FC,Feas);\n",
    "    \n",
    "    x[i]=length(L);\n",
    "    \n",
    "    for j=1:Ss\n",
    "        \n",
    "        a=@allocated VFI(β,P,D[2],QnR,Feas[2])\n",
    "        b[j]=a/10^9.0;\n",
    "        \n",
    "    end\n",
    "    \n",
    "    t[i]=minimum(b);\n",
    "    \n",
    "end"
   ]
  },
  {
   "cell_type": "markdown",
   "metadata": {},
   "source": [
    "### Plot Result"
   ]
  },
  {
   "cell_type": "code",
   "execution_count": null,
   "metadata": {
    "collapsed": false,
    "scrolled": true
   },
   "outputs": [],
   "source": [
    "plot(x=x, y=t,Guide.xlabel(\"G\"),Guide.ylabel(\"Gb\"),Guide.title(\"Memory\"), Geom.line, Geom.point)"
   ]
  },
  {
   "cell_type": "markdown",
   "metadata": {},
   "source": [
    "## Profile"
   ]
  },
  {
   "cell_type": "code",
   "execution_count": null,
   "metadata": {
    "collapsed": false
   },
   "outputs": [],
   "source": [
    "β=0.9;\n",
    "G=5;\n",
    "N=3;\n",
    "α₁=0.8;\n",
    "β₁=0.1;\n",
    "F_0=0.8;\n",
    "F_G=1.0;\n",
    "F̂=1.1;\n",
    "ϕ=0.2;\n",
    "S=true;\n",
    "M_D=10.;\n",
    "m_D=5.;\n",
    "ρ=0.8;\n",
    "N_D=6;\n",
    "d=2.;\n",
    "N_G=5;\n",
    "δ=0.1;\n",
    "γ=0.5;\n",
    "\n",
    "W=LabourDP.Wages(G,β₁,α₁);\n",
    "F=LabourDP.Production(G,F_0,F_G,F̂,div(G,2)+1);\n",
    "FC=LabourDP.FiringCost(G,ϕ,S,W);\n",
    "D=LabourDP.Demand(M_D,m_D,ρ,N_D,d);\n",
    "fP=LabourDP.fPort(G);\n",
    "L=LabourDP.LabourPortfolio(G,N,N_G,fP);\n",
    "Feas=LabourDP.FeasibleChoices(L);\n",
    "QnRFeas=LabourDP.FeasibleQnR(L);\n",
    "QnR=LabourDP.QnRTransition(L,QnRFeas,δ,γ);\n",
    "P=LabourDP.Profits(L,D[1],W,F,FC,Feas);"
   ]
  },
  {
   "cell_type": "code",
   "execution_count": null,
   "metadata": {
    "collapsed": false
   },
   "outputs": [],
   "source": [
    "@time VFI(β,P,D[2],QnR,Feas[2])"
   ]
  },
  {
   "cell_type": "markdown",
   "metadata": {},
   "source": [
    "Sample Size"
   ]
  },
  {
   "cell_type": "code",
   "execution_count": null,
   "metadata": {
    "collapsed": true
   },
   "outputs": [],
   "source": [
    "Rep=1;"
   ]
  },
  {
   "cell_type": "code",
   "execution_count": null,
   "metadata": {
    "collapsed": false,
    "scrolled": false
   },
   "outputs": [],
   "source": [
    "Profile.clear()\n",
    "@profile (for i=1:Rep;VFI(β,P,D[2],QnR,Feas[2]);end)\n",
    "Profile.print()"
   ]
  }
 ],
 "metadata": {
  "kernelspec": {
   "display_name": "Julia 0.3.7",
   "language": "julia",
   "name": "julia 0.3"
  },
  "language_info": {
   "name": "julia",
   "version": "0.3.7"
  }
 },
 "nbformat": 4,
 "nbformat_minor": 0
}
