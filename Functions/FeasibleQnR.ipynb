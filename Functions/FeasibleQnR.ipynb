{
 "cells": [
  {
   "cell_type": "markdown",
   "metadata": {},
   "source": [
    "# Feasible Quit and Retirement Portfolios"
   ]
  },
  {
   "cell_type": "markdown",
   "metadata": {},
   "source": [
    "Returns the Array with the Index Value of all possible future Portfolios by Quits and Retirements."
   ]
  },
  {
   "cell_type": "markdown",
   "metadata": {},
   "source": [
    "### Input Variables:"
   ]
  },
  {
   "cell_type": "markdown",
   "metadata": {},
   "source": [
    "$\\textit{f}$ Function used to Evaluate Possible Portfolios  \n",
    "$\\mathbb{L}$ Labour Portfolios   "
   ]
  },
  {
   "cell_type": "markdown",
   "metadata": {},
   "source": [
    "### Output Variables:"
   ]
  },
  {
   "cell_type": "markdown",
   "metadata": {},
   "source": [
    "$\\mathbf{R}$ Array of Indexes of Today Portfolio by the Number of Possible Portfolios  \n",
    "$\\mathbf{C}$ List with all possible Portfolio indexes for each Portfolio"
   ]
  },
  {
   "cell_type": "markdown",
   "metadata": {},
   "source": [
    "## Function:"
   ]
  },
  {
   "cell_type": "code",
   "execution_count": 1,
   "metadata": {
    "collapsed": false
   },
   "outputs": [
    {
     "data": {
      "text/plain": [
       "FeasibleQnR (generic function with 1 method)"
      ]
     },
     "execution_count": 1,
     "metadata": {},
     "output_type": "execute_result"
    }
   ],
   "source": [
    "function FeasibleQnR(f::Function,L::Array{Any,1})\n",
    "    \n",
    "    \"\"\"Returns the Array with the \n",
    "    Index Value of all Feasible future\n",
    "    Portfolios by Quits and Retirements.\n",
    "\n",
    "    Parameters\n",
    "    ----------\n",
    "    f : Function used to create Feasible Portfolios\n",
    "    L : Labour Portfolios\n",
    "    \n",
    "    Parameters\n",
    "    ----------\n",
    "    R : Array of Indexes of Today Portfolio by the Number of Possible Portfolios\n",
    "    C : Array of Indexes of Possible Portfolios for tomorrow due to QnR\n",
    "    \"\"\"\n",
    "    \n",
    "    C=Array(Array{Int64,1},length(L))\n",
    "    \n",
    "    for i=1:length(L)\n",
    "\n",
    "        L_i=L[i];\n",
    "    \n",
    "        FeasL=f(L_i);\n",
    "    \n",
    "        C[i]=findin(L,FeasL);\n",
    "        \n",
    "    end\n",
    "    \n",
    "    R=deepcopy(C);\n",
    "    \n",
    "    for i=1:length(L)\n",
    "        \n",
    "        fill!(R[i],i);\n",
    "        \n",
    "    end\n",
    "\n",
    "    return R,C\n",
    "    \n",
    "end"
   ]
  },
  {
   "cell_type": "markdown",
   "metadata": {},
   "source": [
    "## Example"
   ]
  },
  {
   "cell_type": "markdown",
   "metadata": {},
   "source": [
    "### Parameters:"
   ]
  },
  {
   "cell_type": "code",
   "execution_count": 2,
   "metadata": {
    "collapsed": true
   },
   "outputs": [],
   "source": [
    "using LabourDP: LabourPortfolio, fPort\n",
    "\n",
    "# Create Labour Portfolio\n",
    "G=3;\n",
    "N=3;\n",
    "\n",
    "M_D=9.;\n",
    "F_G=1.;\n",
    "\n",
    "# Create Labour Function\n",
    "fPortfolio=LabourDP.fPort(G);\n",
    "\n",
    "Labour=LabourPortfolio(G,N,M_D,F_G,fPortfolio);"
   ]
  },
  {
   "cell_type": "code",
   "execution_count": 4,
   "metadata": {
    "collapsed": false
   },
   "outputs": [],
   "source": [
    "QnR=FeasibleQnR(fPortfolio,Labour);"
   ]
  },
  {
   "cell_type": "markdown",
   "metadata": {},
   "source": [
    "#### Possible QnR:"
   ]
  },
  {
   "cell_type": "markdown",
   "metadata": {
    "collapsed": true
   },
   "source": [
    "Try to build a nice network graphs with Graphs.jl  \n",
    "At the moment it does not work for some reason. Try again in the future"
   ]
  }
 ],
 "metadata": {
  "kernelspec": {
   "display_name": "Julia 0.3.6",
   "language": "julia",
   "name": "julia 0.3"
  },
  "language_info": {
   "name": "julia",
   "version": "0.3.6"
  }
 },
 "nbformat": 4,
 "nbformat_minor": 0
}
