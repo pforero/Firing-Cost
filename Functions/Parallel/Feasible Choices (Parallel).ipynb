{
 "cells": [
  {
   "cell_type": "markdown",
   "metadata": {},
   "source": [
    "# Feasible Labour Portfolio Choices (Parallel)"
   ]
  },
  {
   "cell_type": "markdown",
   "metadata": {},
   "source": [
    "Returns the Array with the Index Value of all Feasible future choices for Labour Portfolio i.  \n",
    "\n",
    "This version uses Parallel Computing."
   ]
  },
  {
   "cell_type": "markdown",
   "metadata": {},
   "source": [
    "### Non Parallel Version"
   ]
  },
  {
   "cell_type": "markdown",
   "metadata": {},
   "source": [
    "* [Feasible Choices](Functions/Feasible Choices.ipynb)"
   ]
  },
  {
   "cell_type": "code",
   "execution_count": 7,
   "metadata": {
    "collapsed": false
   },
   "outputs": [
    {
     "data": {
      "text/plain": [
       "4"
      ]
     },
     "execution_count": 7,
     "metadata": {},
     "output_type": "execute_result"
    }
   ],
   "source": [
    "nprocs()"
   ]
  },
  {
   "cell_type": "markdown",
   "metadata": {},
   "source": [
    "### Input Variables:"
   ]
  },
  {
   "cell_type": "markdown",
   "metadata": {},
   "source": [
    "$\\mathbb{L}$ Labour Portfolios   "
   ]
  },
  {
   "cell_type": "markdown",
   "metadata": {},
   "source": [
    "### Output Variables:"
   ]
  },
  {
   "cell_type": "markdown",
   "metadata": {},
   "source": [
    "$\\mathbf{R}$ Array of Indexes of Today Portfolio by the Number of Feasible Portfolios  \n",
    "$\\mathbf{C}$ List with all feasible Portfolio indexes for each Portfolio"
   ]
  },
  {
   "cell_type": "markdown",
   "metadata": {},
   "source": [
    "## Function:"
   ]
  },
  {
   "cell_type": "code",
   "execution_count": 8,
   "metadata": {
    "collapsed": false
   },
   "outputs": [
    {
     "data": {
      "text/plain": [
       "FeasibleChoicesP (generic function with 1 method)"
      ]
     },
     "execution_count": 8,
     "metadata": {},
     "output_type": "execute_result"
    }
   ],
   "source": [
    "@everywhere using ParallelDP\n",
    "\n",
    "function FeasibleChoicesP(L::Array{Any,1})\n",
    "    \n",
    "    \"\"\"Returns the Array with the \n",
    "    Index Value of all Feasible future\n",
    "    choices for Labour Portfolio i.\n",
    "\n",
    "    Parameters\n",
    "    ----------\n",
    "    L : Labour Portfolios\n",
    "    \n",
    "    Output\n",
    "    ----------\n",
    "    R : Array of Indexes of Today Portfolio by the Number of Feasible Portfolios\n",
    "    C : List with all Feasible Portfolio indexes for each Portfolio\n",
    "    \"\"\"\n",
    "    \n",
    "    L2=@parallel (vcat) for i=1:length(L)\n",
    "        L[i][2:end]\n",
    "    end\n",
    "    \n",
    "    Ld=distribute(L);\n",
    "    \n",
    "    C=@parallel (vcat) for p=procs(Ld)\n",
    "        @fetchfrom p FeasLoopP(localpart(Ld),L2)     \n",
    "    end\n",
    "    \n",
    "    R=deepcopy(C);\n",
    "    \n",
    "    Rows!(R);\n",
    "\n",
    "    return R,C\n",
    "    \n",
    "end"
   ]
  },
  {
   "cell_type": "markdown",
   "metadata": {},
   "source": [
    "## Sub Functions"
   ]
  },
  {
   "cell_type": "markdown",
   "metadata": {},
   "source": [
    "* [Sub Functions in Parallel](Functions/Feasible Choices.ipynb)"
   ]
  },
  {
   "cell_type": "markdown",
   "metadata": {},
   "source": [
    "## Example"
   ]
  },
  {
   "cell_type": "markdown",
   "metadata": {},
   "source": [
    "### Parameters:"
   ]
  },
  {
   "cell_type": "code",
   "execution_count": 9,
   "metadata": {
    "collapsed": false
   },
   "outputs": [],
   "source": [
    "import LabourDP\n",
    "\n",
    "# Create Labour Portfolio\n",
    "G=3;\n",
    "N=3;\n",
    "\n",
    "N_G=9;\n",
    "\n",
    "# Create Labour Function\n",
    "fPortfolio=LabourDP.fPort(G);\n",
    "\n",
    "Labour=LabourDP.LabourPortfolio(G,N,N_G,fPortfolio);"
   ]
  },
  {
   "cell_type": "code",
   "execution_count": 10,
   "metadata": {
    "collapsed": false
   },
   "outputs": [],
   "source": [
    "Feas=FeasibleChoicesP(Labour);"
   ]
  },
  {
   "cell_type": "markdown",
   "metadata": {},
   "source": [
    "#### Feasible Network:"
   ]
  },
  {
   "cell_type": "markdown",
   "metadata": {},
   "source": [
    "Try to build a nice network graphs with Graphs.jl  \n",
    "At the moment it does not work for some reason. Try again in the future"
   ]
  }
 ],
 "metadata": {
  "kernelspec": {
   "display_name": "Julia 0.3.7",
   "language": "julia",
   "name": "julia 0.3"
  },
  "language_info": {
   "name": "julia",
   "version": "0.3.7"
  }
 },
 "nbformat": 4,
 "nbformat_minor": 0
}
