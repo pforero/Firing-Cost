{
 "cells": [
  {
   "cell_type": "markdown",
   "metadata": {},
   "source": [
    "# Display Function"
   ]
  },
  {
   "cell_type": "markdown",
   "metadata": {},
   "source": [
    "Create a Text to display mathematically the function created by fFeas or fPort"
   ]
  },
  {
   "cell_type": "markdown",
   "metadata": {},
   "source": [
    "### Input Variables:"
   ]
  },
  {
   "cell_type": "markdown",
   "metadata": {},
   "source": [
    "$\\textit{f}$ Function to Display  \n",
    "$G$ Number of Variables in the Function"
   ]
  },
  {
   "cell_type": "markdown",
   "metadata": {},
   "source": [
    "### Output Variables:"
   ]
  },
  {
   "cell_type": "markdown",
   "metadata": {},
   "source": [
    "$\\text{Text}$ String used to Display Function"
   ]
  },
  {
   "cell_type": "markdown",
   "metadata": {},
   "source": [
    "## Function:"
   ]
  },
  {
   "cell_type": "code",
   "execution_count": 2,
   "metadata": {
    "collapsed": false
   },
   "outputs": [
    {
     "data": {
      "text/plain": [
       "FuncText (generic function with 1 method)"
      ]
     },
     "execution_count": 2,
     "metadata": {},
     "output_type": "execute_result"
    }
   ],
   "source": [
    "function FuncText(f::Expr,G::Int)\n",
    "    \n",
    "    \"\"\"Create a Text to display mathematically\n",
    "    the function created by fFeas or fPort\n",
    "\n",
    "    Parameters\n",
    "    ----------\n",
    "    f   : Function to Display\n",
    "    G   : Number of Variables in the Function\n",
    "    \n",
    "    Output\n",
    "    ----------\n",
    "    Text: String used to Display Function\n",
    "\n",
    "    \"\"\"\n",
    "    \n",
    "    Text=\"[[\";\n",
    "\n",
    "    for i=1:G-1\n",
    "    \n",
    "        Param=f.args[1].args[i];\n",
    "        Text=string(Text,Param,\",\");\n",
    "    \n",
    "    end\n",
    "\n",
    "    Param=f.args[1].args[G];\n",
    "    Text=string(Text,Param,\"]~for~\");\n",
    "\n",
    "    for i=1:G-1\n",
    "    \n",
    "        Param=f.args[i+1].args[1];\n",
    "        ParamN=f.args[i+1].args[2].args[2];\n",
    "        Text=string(Text,Param,\"=0:\",ParamN,\",~\");\n",
    "    \n",
    "    end\n",
    "\n",
    "    Param=f.args[G+1].args[1];\n",
    "    ParamN=f.args[G+1].args[2].args[2];\n",
    "    Text=string(Text,Param,\"=0:\",ParamN,\"]\");\n",
    "    \n",
    "    return Text\n",
    "    \n",
    "end"
   ]
  },
  {
   "cell_type": "markdown",
   "metadata": {},
   "source": [
    "## Example"
   ]
  },
  {
   "cell_type": "markdown",
   "metadata": {},
   "source": [
    "### Parameters:"
   ]
  },
  {
   "cell_type": "code",
   "execution_count": 3,
   "metadata": {
    "collapsed": false
   },
   "outputs": [],
   "source": [
    "using LabourDPOld: fFeas\n",
    "\n",
    "# Create fFeas Function\n",
    "\n",
    "G=3;\n",
    "N=3;\n",
    "\n",
    "FunctionFeasable=fFeas(G,N);"
   ]
  },
  {
   "cell_type": "code",
   "execution_count": 4,
   "metadata": {
    "collapsed": false
   },
   "outputs": [],
   "source": [
    "Text=FuncText(FunctionFeasable,G);"
   ]
  },
  {
   "cell_type": "markdown",
   "metadata": {
    "collapsed": true
   },
   "source": [
    "#### Output Formula:"
   ]
  },
  {
   "cell_type": "code",
   "execution_count": 5,
   "metadata": {
    "collapsed": false
   },
   "outputs": [
    {
     "data": {
      "text/latex": [
       "$$[[x_1,x_2,x_G]~for~x_1=0:3,~x_2=0:L_i[1],~x_G=0:L_i[2] + L_i[3]]$$"
      ],
      "text/plain": [
       "PyObject <IPython.core.display.Math object>"
      ]
     },
     "execution_count": 5,
     "metadata": {},
     "output_type": "execute_result"
    }
   ],
   "source": [
    "using PyCall\n",
    "@pyimport IPython.display as IpDisp\n",
    "\n",
    "IpDisp.Math(Text)"
   ]
  }
 ],
 "metadata": {
  "kernelspec": {
   "display_name": "Julia 0.3.6",
   "language": "julia",
   "name": "julia 0.3"
  },
  "language_info": {
   "name": "julia",
   "version": "0.3.6"
  }
 },
 "nbformat": 4,
 "nbformat_minor": 0
}
