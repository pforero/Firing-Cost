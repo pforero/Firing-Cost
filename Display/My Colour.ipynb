{
 "cells": [
  {
   "cell_type": "markdown",
   "metadata": {},
   "source": [
    "# My Colour"
   ]
  },
  {
   "cell_type": "markdown",
   "metadata": {},
   "source": [
    "Create Colour Structure. Useful to keep saved predetermined Colours."
   ]
  },
  {
   "cell_type": "markdown",
   "metadata": {},
   "source": [
    "### Input Variables:"
   ]
  },
  {
   "cell_type": "markdown",
   "metadata": {},
   "source": [
    "$C$ Array with 3 Colours  \n",
    "\n",
    "or  \n",
    "\n",
    "$\\textit{Name}$ Name of predetermined Colour scheme  \n",
    "\n"
   ]
  },
  {
   "cell_type": "markdown",
   "metadata": {},
   "source": [
    "### Output Variables:"
   ]
  },
  {
   "cell_type": "markdown",
   "metadata": {},
   "source": [
    "$C$ Array with 3 Colours  "
   ]
  },
  {
   "cell_type": "markdown",
   "metadata": {},
   "source": [
    "## Function:"
   ]
  },
  {
   "cell_type": "markdown",
   "metadata": {},
   "source": [
    "### Method 1: List of Colours"
   ]
  },
  {
   "cell_type": "code",
   "execution_count": 1,
   "metadata": {
    "collapsed": false
   },
   "outputs": [
    {
     "data": {
      "text/plain": [
       "MyColour (generic function with 1 method)"
      ]
     },
     "execution_count": 1,
     "metadata": {},
     "output_type": "execute_result"
    }
   ],
   "source": [
    "using Color\n",
    "\n",
    "function MyColour(C::Array{ASCIIString,1})\n",
    "    \n",
    "    \"\"\"Method 1: List of String Colours\n",
    "    \n",
    "    Create Colour Structure.\n",
    "\n",
    "    Parameters\n",
    "    ----------\n",
    "    C: Array with 3 String Colours\n",
    "    \n",
    "    Output\n",
    "    ----------\n",
    "    C: Array with 3 Colours\n",
    "    \"\"\"\n",
    "    \n",
    "    length(C)<3 && return C=vcat(color(\"white\"),color(\"gray\"),color(\"black\"));\n",
    "    \n",
    "    return C\n",
    "    \n",
    "end"
   ]
  },
  {
   "cell_type": "markdown",
   "metadata": {},
   "source": [
    "### Method 2: Three String Colours"
   ]
  },
  {
   "cell_type": "code",
   "execution_count": 2,
   "metadata": {
    "collapsed": false
   },
   "outputs": [
    {
     "data": {
      "text/plain": [
       "MyColour (generic function with 2 methods)"
      ]
     },
     "execution_count": 2,
     "metadata": {},
     "output_type": "execute_result"
    }
   ],
   "source": [
    "function MyColour(C1::ASCIIString,C2::ASCIIString,C3::ASCIIString)\n",
    "    \n",
    "    \"\"\"Method 2: Three String Colours\n",
    "    \n",
    "    Create Colour Structure.\n",
    "\n",
    "    Parameters\n",
    "    ----------\n",
    "    C1: String Colour 1\n",
    "    C2: String Colour 2\n",
    "    C3: String Colour 3\n",
    "    \n",
    "    Output\n",
    "    ----------\n",
    "    C: Array with 3 Colours\n",
    "    \"\"\"\n",
    "    \n",
    "    return vcat(color(C1),color(C2),color(C3))\n",
    "    \n",
    "end"
   ]
  },
  {
   "cell_type": "markdown",
   "metadata": {},
   "source": [
    "### Method 3: Array of Colours"
   ]
  },
  {
   "cell_type": "code",
   "execution_count": 3,
   "metadata": {
    "collapsed": false
   },
   "outputs": [
    {
     "data": {
      "text/plain": [
       "MyColour (generic function with 3 methods)"
      ]
     },
     "execution_count": 3,
     "metadata": {},
     "output_type": "execute_result"
    }
   ],
   "source": [
    "function MyColour{T<:ColorValue}(C::Array{T,1})\n",
    "    \n",
    "    \"\"\"Method 3: List of Colours\n",
    "    \n",
    "    Create Colour Structure.\n",
    "\n",
    "    Parameters\n",
    "    ----------\n",
    "    C: Array of Colour\n",
    "    \n",
    "    Output\n",
    "    ----------\n",
    "    C: Array with 3 Colours\n",
    "    \"\"\"\n",
    "    \n",
    "    length(C)<3 && return C=vcat(color(\"white\"),color(\"gray\"),color(\"black\"));\n",
    "    \n",
    "    return C\n",
    "    \n",
    "end"
   ]
  },
  {
   "cell_type": "markdown",
   "metadata": {},
   "source": [
    "### Method 4: Three Colours"
   ]
  },
  {
   "cell_type": "code",
   "execution_count": 4,
   "metadata": {
    "collapsed": false
   },
   "outputs": [
    {
     "data": {
      "text/plain": [
       "MyColour (generic function with 4 methods)"
      ]
     },
     "execution_count": 4,
     "metadata": {},
     "output_type": "execute_result"
    }
   ],
   "source": [
    "function MyColour(C1::ColorValue,C2::ColorValue,C3::ColorValue)\n",
    "    \n",
    "    \"\"\"Method 4: Three Colours\n",
    "    \n",
    "    Create Colour Structure.\n",
    "\n",
    "    Parameters\n",
    "    ----------\n",
    "    C1: Colour 1\n",
    "    C2: Colour 2\n",
    "    C3: Colour 3\n",
    "    \n",
    "    Output\n",
    "    ----------\n",
    "    C: Array with 3 Colours\n",
    "    \"\"\"\n",
    "    \n",
    "    return vcat(C1,C2,C3)\n",
    "    \n",
    "end"
   ]
  },
  {
   "cell_type": "markdown",
   "metadata": {},
   "source": [
    "### Method 5: Predetermined Colours"
   ]
  },
  {
   "cell_type": "code",
   "execution_count": 5,
   "metadata": {
    "collapsed": false
   },
   "outputs": [
    {
     "data": {
      "text/plain": [
       "MyColour (generic function with 5 methods)"
      ]
     },
     "execution_count": 5,
     "metadata": {},
     "output_type": "execute_result"
    }
   ],
   "source": [
    "function MyColour(Name::ASCIIString)\n",
    "    \n",
    "    \"\"\"Method 5: Predetermined Colours\n",
    "    \n",
    "    Create Colour Structure.\n",
    "\n",
    "    Parameters\n",
    "    ----------\n",
    "    Name: Name of Predetermined Colours\n",
    "    \n",
    "    Output\n",
    "    ----------\n",
    "    C: Array with 3 Colours\n",
    "    \"\"\"\n",
    "    \n",
    "    C=vcat(color(\"white\"),color(\"gray\"),color(\"black\"));\n",
    "    \n",
    "    if Name==\"EUI\"\n",
    "        \n",
    "        Colour1=RGB(202/255,215/255,237/255);\n",
    "        Colour2=RGB(37/255,131/255,192/255);\n",
    "        Colour3=RGB(0/255,74/255,124/255);\n",
    "         \n",
    "        \n",
    "    end\n",
    "    \n",
    "    return vcat(Colour1,Colour2,Colour3)\n",
    "    \n",
    "end"
   ]
  },
  {
   "cell_type": "markdown",
   "metadata": {},
   "source": [
    "## Example"
   ]
  },
  {
   "cell_type": "markdown",
   "metadata": {},
   "source": [
    "### Parameters:"
   ]
  },
  {
   "cell_type": "code",
   "execution_count": 6,
   "metadata": {
    "collapsed": false
   },
   "outputs": [
    {
     "data": {
      "image/svg+xml": [
       "<?xml version=\"1.0\" encoding=\"UTF-8\"?>\n",
       "<!DOCTYPE svg PUBLIC \"-//W3C//DTD SVG 1.1//EN\"\n",
       " \"http://www.w3.org/Graphics/SVG/1.1/DTD/svg11.dtd\">\n",
       "<svg xmlns=\"http://www.w3.org/2000/svg\" version=\"1.1\"\n",
       "     width=\"45.0mm\" height=\"25.0mm\"\n",
       "     shape-rendering=\"crispEdges\">\n",
       "<rect x=\"0.0mm\" y=\"0.0mm\"\n",
       "      width=\"14.0mm\" height=\"25.0mm\"\n",
       "      fill=\"#CAD7ED\" stroke=\"none\" />\n",
       "<rect x=\"15.0mm\" y=\"0.0mm\"\n",
       "      width=\"14.0mm\" height=\"25.0mm\"\n",
       "      fill=\"#2583C0\" stroke=\"none\" />\n",
       "<rect x=\"30.0mm\" y=\"0.0mm\"\n",
       "      width=\"14.0mm\" height=\"25.0mm\"\n",
       "      fill=\"#004A7C\" stroke=\"none\" />\n",
       "</svg>"
      ],
      "text/plain": [
       "3-element Array{RGB{Float64},1}:\n",
       " RGB{Float64}(0.792156862745098,0.8431372549019608,0.9294117647058824) \n",
       " RGB{Float64}(0.1450980392156863,0.5137254901960784,0.7529411764705882)\n",
       " RGB{Float64}(0.0,0.2901960784313726,0.48627450980392156)              "
      ]
     },
     "execution_count": 6,
     "metadata": {},
     "output_type": "execute_result"
    }
   ],
   "source": [
    "MyColour(\"EUI\")"
   ]
  }
 ],
 "metadata": {
  "kernelspec": {
   "display_name": "Julia 0.3.6",
   "language": "julia",
   "name": "julia 0.3"
  },
  "language_info": {
   "name": "julia",
   "version": "0.3.6"
  }
 },
 "nbformat": 4,
 "nbformat_minor": 0
}
