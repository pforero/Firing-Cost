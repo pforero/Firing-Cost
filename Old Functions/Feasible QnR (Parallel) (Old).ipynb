{
 "cells": [
  {
   "cell_type": "markdown",
   "metadata": {},
   "source": [
    "# Feasible Quit and Retirement Portfolios"
   ]
  },
  {
   "cell_type": "markdown",
   "metadata": {},
   "source": [
    "#### Add Processors"
   ]
  },
  {
   "cell_type": "code",
   "execution_count": 1,
   "metadata": {
    "collapsed": false
   },
   "outputs": [
    {
     "data": {
      "text/plain": [
       "3-element Array{Any,1}:\n",
       " 2\n",
       " 3\n",
       " 4"
      ]
     },
     "execution_count": 1,
     "metadata": {},
     "output_type": "execute_result"
    }
   ],
   "source": [
    "addprocs(3)"
   ]
  },
  {
   "cell_type": "markdown",
   "metadata": {},
   "source": [
    "Returns the Array with the Index Value of all possible future Portfolios by Quits and Retirements.\n",
    "\n",
    "This versions uses Parallel Computing."
   ]
  },
  {
   "cell_type": "markdown",
   "metadata": {},
   "source": [
    "### Input Variables:"
   ]
  },
  {
   "cell_type": "markdown",
   "metadata": {},
   "source": [
    "$\\textit{f}$ Function used to Evaluate Possible Portfolios  \n",
    "$\\mathbb{L}$ Labour Portfolios   "
   ]
  },
  {
   "cell_type": "markdown",
   "metadata": {},
   "source": [
    "### Output Variables:"
   ]
  },
  {
   "cell_type": "markdown",
   "metadata": {},
   "source": [
    "$\\mathbf{R}$ Array of Indexes of Today Portfolio by the Number of Possible Portfolios  \n",
    "$\\mathbf{C}$ List with all possible Portfolio indexes for each Portfolio"
   ]
  },
  {
   "cell_type": "markdown",
   "metadata": {},
   "source": [
    "## Function:"
   ]
  },
  {
   "cell_type": "code",
   "execution_count": 2,
   "metadata": {
    "collapsed": false
   },
   "outputs": [
    {
     "data": {
      "text/plain": [
       "FeasibleQnRP (generic function with 1 method)"
      ]
     },
     "execution_count": 2,
     "metadata": {},
     "output_type": "execute_result"
    }
   ],
   "source": [
    "function FeasibleQnRP(f::Function,L::Array{Any,1})\n",
    "    \n",
    "    \"\"\"Returns the Array with the \n",
    "    Index Value of all Feasible future\n",
    "    Portfolios by Quits and Retirements.\n",
    "    \n",
    "    Parallel Version\n",
    "\n",
    "    Parameters\n",
    "    ----------\n",
    "    f : Function used to create Feasible Portfolios\n",
    "    L : Labour Portfolios\n",
    "    \n",
    "    Parameters\n",
    "    ----------\n",
    "    R : Array of Indexes of Today Portfolio by the Number of Possible Portfolios\n",
    "    C : Array of Indexes of Possible Portfolios for tomorrow due to QnR\n",
    "    \"\"\"\n",
    "    \n",
    "    C=Array(Array{Int64,1},length(L));\n",
    "    \n",
    "    H=pmap(f,L);\n",
    "    \n",
    "    for i=1:length(L)\n",
    "        \n",
    "        C[i]=findin(L,H[i]);\n",
    "        \n",
    "    end\n",
    "\n",
    "    R=copy(C);\n",
    "    \n",
    "    for i=1:length(L)\n",
    "        \n",
    "        fill!(R[i],i);\n",
    "        \n",
    "    end\n",
    "\n",
    "    return R,C\n",
    "    \n",
    "end"
   ]
  },
  {
   "cell_type": "markdown",
   "metadata": {},
   "source": [
    "## Example"
   ]
  },
  {
   "cell_type": "markdown",
   "metadata": {},
   "source": [
    "### Parameters:"
   ]
  },
  {
   "cell_type": "code",
   "execution_count": 3,
   "metadata": {
    "collapsed": true
   },
   "outputs": [],
   "source": [
    "using LabourDP: LabourPortfolio, fPort\n",
    "\n",
    "# Create Labour Portfolio\n",
    "G=3;\n",
    "N=3;\n",
    "\n",
    "M_D=9.;\n",
    "F_G=1.;\n",
    "\n",
    "# Create Labour Function\n",
    "fPortfolio=LabourDP.fPort(G);\n",
    "\n",
    "Labour=LabourPortfolio(G,N,M_D,F_G,fPortfolio);"
   ]
  },
  {
   "cell_type": "code",
   "execution_count": 4,
   "metadata": {
    "collapsed": false
   },
   "outputs": [],
   "source": [
    "QnR=FeasibleQnRP(fPortfolio,Labour);"
   ]
  },
  {
   "cell_type": "markdown",
   "metadata": {},
   "source": [
    "#### Possible QnR:"
   ]
  },
  {
   "cell_type": "markdown",
   "metadata": {
    "collapsed": true
   },
   "source": [
    "Try to build a nice network graphs with Graphs.jl  \n",
    "At the moment it does not work for some reason. Try again in the future"
   ]
  }
 ],
 "metadata": {
  "kernelspec": {
   "display_name": "Julia 0.3.7",
   "language": "julia",
   "name": "julia 0.3"
  },
  "language_info": {
   "name": "julia",
   "version": "0.3.7"
  }
 },
 "nbformat": 4,
 "nbformat_minor": 0
}
