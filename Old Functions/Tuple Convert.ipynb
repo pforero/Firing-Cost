{
 "cells": [
  {
   "cell_type": "markdown",
   "metadata": {},
   "source": [
    "# Convert Labour Portfolio into Tuple"
   ]
  },
  {
   "cell_type": "markdown",
   "metadata": {},
   "source": [
    "Take a Matrix with Labour Portfolios and create it into a Tuple"
   ]
  },
  {
   "cell_type": "markdown",
   "metadata": {},
   "source": [
    "### Input Variables:"
   ]
  },
  {
   "cell_type": "markdown",
   "metadata": {},
   "source": [
    "$\\mathbb{L}$ Matrix with $S_L$ Labour Portfolio States with $G$ different types of workers  \n",
    "$S_L$ Size of the State Space of Labourt Portfolios  "
   ]
  },
  {
   "cell_type": "markdown",
   "metadata": {},
   "source": [
    "### Output Variables:"
   ]
  },
  {
   "cell_type": "markdown",
   "metadata": {},
   "source": [
    "$\\mathbf{L}$ Tuple with $S_L$ Labour Portfolio States with $G$ different types of workers  "
   ]
  },
  {
   "cell_type": "markdown",
   "metadata": {},
   "source": [
    "## Function:"
   ]
  },
  {
   "cell_type": "code",
   "execution_count": 9,
   "metadata": {
    "collapsed": false
   },
   "outputs": [
    {
     "data": {
      "text/plain": [
       "TupleLabour (generic function with 1 method)"
      ]
     },
     "execution_count": 9,
     "metadata": {},
     "output_type": "execute_result"
    }
   ],
   "source": [
    "function TupleLabour(L::Array{Int64,2},S::Int)\n",
    "    \n",
    "    \"\"\"Convert the Labour Matrix into a Tuple\n",
    "\n",
    "    Parameters\n",
    "    ----------\n",
    "    L : Matrix with Labour Portfolios\n",
    "    S : Number of differente Labour Portfolios\n",
    "    \n",
    "    Output\n",
    "    ----------\n",
    "    Lt: Tuple with Labour Portfolios\n",
    "    \"\"\"\n",
    "    \n",
    "    Lt=ntuple(S,x->L[:,x])\n",
    "    \n",
    "    return Lt\n",
    "    \n",
    "end"
   ]
  },
  {
   "cell_type": "markdown",
   "metadata": {},
   "source": [
    "## Example"
   ]
  },
  {
   "cell_type": "markdown",
   "metadata": {},
   "source": [
    "### Parameters:"
   ]
  },
  {
   "cell_type": "code",
   "execution_count": 10,
   "metadata": {
    "collapsed": true
   },
   "outputs": [],
   "source": [
    "using LabourDP: LabourPortfolio\n",
    "\n",
    "# Create Labour Portfolio\n",
    "G=3;\n",
    "N=3;\n",
    "\n",
    "M_D=9.;\n",
    "F_G=1.;\n",
    "\n",
    "Labour=LabourPortfolio(G,N,M_D,F_G);\n",
    "\n",
    "L=Labour[1];"
   ]
  },
  {
   "cell_type": "code",
   "execution_count": 11,
   "metadata": {
    "collapsed": false
   },
   "outputs": [],
   "source": [
    "Lt=TupleLabour(Labour[1],Labour[2]);"
   ]
  },
  {
   "cell_type": "markdown",
   "metadata": {},
   "source": [
    "#### Compare Matrices"
   ]
  },
  {
   "cell_type": "code",
   "execution_count": 12,
   "metadata": {
    "collapsed": false
   },
   "outputs": [
    {
     "data": {
      "text/html": [
       "<head><style>table {width:30%;}table#t01 tr:nth-child(even) {background-color: #CAD7ED;}table#t01 tr:nth-child(odd) {background-color:#2483C0;}table#t01 th\t{background-color: #004A7C;color: white;text-align: center;}table#t01 td,tr{text-align: center;}table#t02 tr:nth-child(even) {background-color: #2483C0;}table#t02 tr:nth-child(odd) {background-color:#CAD7ED;}table#t02 th\t{background-color: #004A7C;color: white;text-align: center;}table#t02 td,tr{text-align: center;}</style></head><body><table id=\"t01\"><tr><th>Matrix L</th><th>Tuple. L</th></tr><tr><td>[0,0,0]</td><td>[0,0,0]</td></tr><tr><td>[1,0,0]</td><td>[1,0,0]</td></tr><tr><td>[2,0,0]</td><td>[2,0,0]</td></tr><tr><td>[3,0,0]</td><td>[3,0,0]</td></tr><tr><td>[0,1,0]</td><td>[0,1,0]</td></tr><tr><td>[1,1,0]</td><td>[1,1,0]</td></tr></table><table id=\"t02\"><tr><td>[2,2,9]</td><td>[2,2,9]</td></tr><tr><td>[3,2,9]</td><td>[3,2,9]</td></tr><tr><td>[0,3,9]</td><td>[0,3,9]</td></tr><tr><td>[1,3,9]</td><td>[1,3,9]</td></tr><tr><td>[2,3,9]</td><td>[2,3,9]</td></tr><tr><td>[3,3,9]</td><td>[3,3,9]</td></tr></table></body>"
      ]
     },
     "metadata": {},
     "output_type": "display_data"
    }
   ],
   "source": [
    "Table=\"\"\"<head><style>table {width:30%;}table#t01 tr:nth-child(even) {background-color: #CAD7ED;}table#t01 tr:nth-child(odd) {background-color:#2483C0;}table#t01 th\t{background-color: #004A7C;color: white;text-align: center;}table#t01 td,tr{text-align: center;}table#t02 tr:nth-child(even) {background-color: #2483C0;}table#t02 tr:nth-child(odd) {background-color:#CAD7ED;}table#t02 th\t{background-color: #004A7C;color: white;text-align: center;}table#t02 td,tr{text-align: center;}</style></head><body><table id=\"t01\"><tr><th>Matrix L</th><th>Tuple. L</th></tr><tr><td>$(L[:,1])</td><td>$(Lt[1])</td></tr><tr><td>$(L[:,2])</td><td>$(Lt[2])</td></tr><tr><td>$(L[:,3])</td><td>$(Lt[3])</td></tr><tr><td>$(L[:,4])</td><td>$(Lt[4])</td></tr><tr><td>$(L[:,5])</td><td>$(Lt[5])</td></tr><tr><td>$(L[:,6])</td><td>$(Lt[6])</td></tr></table><table id=\"t02\"><tr><td>$(L[:,Labour[2]-5])</td><td>$(Lt[Labour[2]-5])</td></tr><tr><td>$(L[:,Labour[2]-4])</td><td>$(Lt[Labour[2]-4])</td></tr><tr><td>$(L[:,Labour[2]-3])</td><td>$(Lt[Labour[2]-3])</td></tr><tr><td>$(L[:,Labour[2]-2])</td><td>$(Lt[Labour[2]-2])</td></tr><tr><td>$(L[:,Labour[2]-1])</td><td>$(Lt[Labour[2]-1])</td></tr><tr><td>$(L[:,Labour[2]])</td><td>$(Lt[Labour[2]])</td></tr></table></body>\"\"\"\n",
    "\n",
    "display(\"text/html\", Table)"
   ]
  }
 ],
 "metadata": {
  "kernelspec": {
   "display_name": "Julia 0.3.6",
   "language": "julia",
   "name": "julia 0.3"
  },
  "language_info": {
   "name": "julia",
   "version": "0.3.6"
  }
 },
 "nbformat": 4,
 "nbformat_minor": 0
}
