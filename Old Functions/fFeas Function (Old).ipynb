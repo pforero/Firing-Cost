{
 "cells": [
  {
   "cell_type": "markdown",
   "metadata": {},
   "source": [
    "# Feasible Labour Portfolio Choices (Old Version)"
   ]
  },
  {
   "cell_type": "markdown",
   "metadata": {},
   "source": [
    "Creates a Function which is used to create all feasible future portfolios given a starting Portfolio.  \n",
    "\n",
    "This Function is used to create all the feasible portfolios for next period given a starting portfolio. This function differs in the $\\textit{Portf}$ Function in that the ceiling for workers in tenure $g$ is the current number of workers in tenure $g-1$."
   ]
  },
  {
   "cell_type": "markdown",
   "metadata": {},
   "source": [
    "### Input Variables:"
   ]
  },
  {
   "cell_type": "markdown",
   "metadata": {},
   "source": [
    "$G$ Number of Tenure Groups  \n",
    "$N$ Max Number of Workers Always available for first year of tenure"
   ]
  },
  {
   "cell_type": "markdown",
   "metadata": {},
   "source": [
    "### Output Variables:"
   ]
  },
  {
   "cell_type": "markdown",
   "metadata": {},
   "source": [
    "$\\textit{Feasf}$ Expression with Function that can Evaluate all Feasable Portfolios"
   ]
  },
  {
   "cell_type": "markdown",
   "metadata": {},
   "source": [
    "### Function Argument:"
   ]
  },
  {
   "cell_type": "markdown",
   "metadata": {},
   "source": [
    "$L_i$ Vector with the Maximum Number of Workers for each Tenure Group"
   ]
  },
  {
   "cell_type": "markdown",
   "metadata": {},
   "source": [
    "## Function:"
   ]
  },
  {
   "cell_type": "code",
   "execution_count": 4,
   "metadata": {
    "collapsed": false
   },
   "outputs": [
    {
     "data": {
      "text/plain": [
       "fFeas (generic function with 1 method)"
      ]
     },
     "execution_count": 4,
     "metadata": {},
     "output_type": "execute_result"
    }
   ],
   "source": [
    "function fFeas(G::Int64,N::Int64)\n",
    "    \n",
    "    \"\"\"Creates a Function which is used to create all\n",
    "    possible combination of portfolios, given a \n",
    "    maximum number of workers for each G years of tenure.\n",
    "    This Function is used to create all possible portfolios \n",
    "    in an economy, and the portfolios a portfolio can change \n",
    "    to due to a Quit and Retirement shocks.\n",
    "\n",
    "    Parameters\n",
    "    ----------\n",
    "    G    : Number of Tenure Groups\n",
    "    N    : Max Number of Workers Always available for first year of tenure\n",
    "    \n",
    "    Output\n",
    "    ----------\n",
    "    Feasf: Expression with Function that can Evaluate all Possible Portfolios\n",
    "    \n",
    "    Function Arguments\n",
    "    ----------\n",
    "    L_i  : Vector with the Maximum Number of Workers for each Tenure Group\n",
    "\n",
    "    \"\"\"\n",
    "    \n",
    "    Feasf=Expr(:comprehension);\n",
    "    \n",
    "    Feasf.args=Array(Any,G+1);\n",
    "    \n",
    "    Feasf.args[1]=Expr(:vcat);\n",
    "    \n",
    "    Feasf.args[1].args=Array(Any,G);\n",
    "    \n",
    "    Feasf.args[2]=Expr(:(=), :x_1, Expr(:(:),0,N));\n",
    "    \n",
    "    Feasf.args[1].args[1]=:x_1;\n",
    "    \n",
    "    for i=2:G-1\n",
    "            \n",
    "        x_i=symbol(\"x_$i\");\n",
    "        \n",
    "        Feasf.args[i+1]=Expr(:(=), x_i, Expr(:(:),0,Expr(:ref,:L_i,i-1)));\n",
    "        Feasf.args[1].args[i]=x_i;\n",
    "        \n",
    "    end\n",
    "    \n",
    "    Feasf.args[G+1]=Expr(:(=), :x_G, Expr(:(:),0,Expr(:call,:(+),Expr(:ref,:L_i,G-1),Expr(:ref,:L_i,G))));\n",
    "    Feasf.args[1].args[G]=:x_G;\n",
    "    \n",
    "    return Feasf\n",
    "    \n",
    "end"
   ]
  },
  {
   "cell_type": "markdown",
   "metadata": {},
   "source": [
    "## Example"
   ]
  },
  {
   "cell_type": "markdown",
   "metadata": {},
   "source": [
    "### Parameters:"
   ]
  },
  {
   "cell_type": "code",
   "execution_count": 5,
   "metadata": {
    "collapsed": false
   },
   "outputs": [],
   "source": [
    "G=3;\n",
    "N=3;"
   ]
  },
  {
   "cell_type": "code",
   "execution_count": 6,
   "metadata": {
    "collapsed": false
   },
   "outputs": [],
   "source": [
    "FunctionFeasable=fFeas(G,N);"
   ]
  },
  {
   "cell_type": "markdown",
   "metadata": {
    "collapsed": true
   },
   "source": [
    "#### Output Formula:"
   ]
  },
  {
   "cell_type": "code",
   "execution_count": 8,
   "metadata": {
    "collapsed": false
   },
   "outputs": [
    {
     "data": {
      "text/latex": [
       "$$[[x_1,x_2,x_G]~for~x_1=0:3,~x_2=0:L_i[1],~x_G=0:L_i[2] + L_i[3]]$$"
      ],
      "text/plain": [
       "PyObject <IPython.core.display.Math object>"
      ]
     },
     "execution_count": 8,
     "metadata": {},
     "output_type": "execute_result"
    }
   ],
   "source": [
    "using LabourDPOld: FuncText\n",
    "using PyCall\n",
    "@pyimport IPython.display as d\n",
    "\n",
    "Text=FuncText(FunctionFeasable,G);\n",
    "\n",
    "d.Math(Text)"
   ]
  }
 ],
 "metadata": {
  "kernelspec": {
   "display_name": "Julia 0.3.6",
   "language": "julia",
   "name": "julia 0.3"
  },
  "language_info": {
   "name": "julia",
   "version": "0.3.6"
  }
 },
 "nbformat": 4,
 "nbformat_minor": 0
}
