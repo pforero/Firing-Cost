{
 "cells": [
  {
   "cell_type": "markdown",
   "metadata": {},
   "source": [
    "# Function for Portfolio Creation (Old Version)"
   ]
  },
  {
   "cell_type": "markdown",
   "metadata": {},
   "source": [
    "Creates a Function which is used to create all possible combination of portfolios, given a maximum number of workers for each $G$ years of tenure.  \n",
    "\n",
    "This Function is used to create all possible portfolios in an economy, and the portfolios a portfolio can change to due to a Quit and Retirement shocks."
   ]
  },
  {
   "cell_type": "markdown",
   "metadata": {},
   "source": [
    "### Input Variables:"
   ]
  },
  {
   "cell_type": "markdown",
   "metadata": {},
   "source": [
    "$G$ Number of Tenure Groups"
   ]
  },
  {
   "cell_type": "markdown",
   "metadata": {},
   "source": [
    "### Output Variables:"
   ]
  },
  {
   "cell_type": "markdown",
   "metadata": {},
   "source": [
    "$\\textit{Portf}$ Expression with Function that can Evaluate all Possible Portfolios"
   ]
  },
  {
   "cell_type": "markdown",
   "metadata": {},
   "source": [
    "### Function Arguments:"
   ]
  },
  {
   "cell_type": "markdown",
   "metadata": {},
   "source": [
    "$L_i$ Vector with the Maximum Number of Workers for each Tenure Group"
   ]
  },
  {
   "cell_type": "markdown",
   "metadata": {},
   "source": [
    "## Function:"
   ]
  },
  {
   "cell_type": "code",
   "execution_count": 3,
   "metadata": {
    "collapsed": false
   },
   "outputs": [
    {
     "data": {
      "text/plain": [
       "fPort (generic function with 1 method)"
      ]
     },
     "execution_count": 3,
     "metadata": {},
     "output_type": "execute_result"
    }
   ],
   "source": [
    "function fPort(G::Int64)\n",
    "    \n",
    "    \"\"\"Creates a Function which is used to create all\n",
    "    possible combination of portfolios, given a \n",
    "    maximum number of workers for each G years of tenure.\n",
    "    This Function is used to create all possible portfolios \n",
    "    in an economy, and the portfolios a portfolio can change \n",
    "    to due to a Quit and Retirement shocks.\n",
    "\n",
    "    Parameters\n",
    "    ----------\n",
    "    G    : Number of Tenure Groups\n",
    "    \n",
    "    Output\n",
    "    ----------\n",
    "    Portf: Expression with Function that can Evaluate all Possible Portfolios\n",
    "    \n",
    "    Function Arguments\n",
    "    ----------\n",
    "    L_i  : Vector with the Maximum Number of Workers for each Tenure Group\n",
    "\n",
    "    \"\"\"\n",
    "    \n",
    "    Portf=Expr(:comprehension);\n",
    "    \n",
    "    Portf.args=Array(Any,G+1);\n",
    "    \n",
    "    Portf.args[1]=Expr(:vcat);\n",
    "    \n",
    "    Portf.args[1].args=Array(Any,G);\n",
    "    \n",
    "    for i=2:G+1\n",
    "            \n",
    "        x_i=symbol(\"x_$(i-1)\");\n",
    "        \n",
    "        Portf.args[i]=Expr(:(=), x_i, Expr(:(:),0,Expr(:ref,:L_i,i-1)));\n",
    "        Portf.args[1].args[i-1]=x_i;\n",
    "        \n",
    "    end\n",
    "    \n",
    "    return Portf\n",
    "    \n",
    "end"
   ]
  },
  {
   "cell_type": "markdown",
   "metadata": {},
   "source": [
    "## Example"
   ]
  },
  {
   "cell_type": "markdown",
   "metadata": {},
   "source": [
    "### Parameters:"
   ]
  },
  {
   "cell_type": "code",
   "execution_count": 4,
   "metadata": {
    "collapsed": false
   },
   "outputs": [],
   "source": [
    "G=3;"
   ]
  },
  {
   "cell_type": "code",
   "execution_count": 5,
   "metadata": {
    "collapsed": false
   },
   "outputs": [],
   "source": [
    "FunctionPortfolio=fPort(G);"
   ]
  },
  {
   "cell_type": "markdown",
   "metadata": {},
   "source": [
    "#### Output Formula:"
   ]
  },
  {
   "cell_type": "code",
   "execution_count": 6,
   "metadata": {
    "collapsed": false,
    "scrolled": false
   },
   "outputs": [
    {
     "data": {
      "text/latex": [
       "$$[[x_1,x_2,x_3]~for~x_1=0:L_i[1],~x_2=0:L_i[2],~x_3=0:L_i[3]]$$"
      ],
      "text/plain": [
       "PyObject <IPython.core.display.Math object>"
      ]
     },
     "execution_count": 6,
     "metadata": {},
     "output_type": "execute_result"
    }
   ],
   "source": [
    "using LabourDPOld: FuncText\n",
    "using PyCall\n",
    "@pyimport IPython.display as d\n",
    "\n",
    "Text=FuncText(FunctionPortfolio,G);\n",
    "\n",
    "d.Math(Text)"
   ]
  }
 ],
 "metadata": {
  "kernelspec": {
   "display_name": "Julia 0.3.6",
   "language": "julia",
   "name": "julia 0.3"
  },
  "language_info": {
   "name": "julia",
   "version": "0.3.6"
  }
 },
 "nbformat": 4,
 "nbformat_minor": 0
}
